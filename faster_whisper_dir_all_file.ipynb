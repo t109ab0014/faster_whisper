{
  "cells": [
    {
      "cell_type": "markdown",
      "source": [
        "# **Youtube Videos Transcription with Faster Whisper**\n",
        "\n",
        "\n",
        "[![notebook shield](https://img.shields.io/static/v1?label=&message=Notebook&color=blue&style=for-the-badge&logo=googlecolab&link=https://colab.research.google.com/github/ArthurFDLR/whisper-youtube/blob/main/whisper_youtube.ipynb)](https://colab.research.google.com/github/lewangdev/whisper-youtube/blob/main/faster_whisper_youtube.ipynb)\n",
        "[![repository shield](https://img.shields.io/static/v1?label=&message=Repository&color=blue&style=for-the-badge&logo=github&link=https://github.com/lewangdev/faster_whisper_youtube)](https://github.com/lewangdev/faster_whisper_youtube)\n",
        "\n",
        "\n",
        "[faster-whisper](https://github.com/guillaumekln/faster-whisper) is a reimplementation of OpenAI's Whisper model using CTranslate2, which is a fast inference engine for Transformer models.\n",
        "\n",
        "This implementation is up to 4 times faster than openai/whisper for the same accuracy while using less memory. The efficiency can be further improved with 8-bit quantization on both CPU and GPU.\n",
        "\n",
        "Whisper is a general-purpose speech recognition model. It is trained on a large dataset of diverse audio and is also a multi-task model that can perform multilingual speech recognition as well as speech translation and language identification.\n",
        "\n",
        "This Notebook will guide you through the transcription of a Youtube video using Faster Whisper. You'll be able to explore most inference parameters or use the Notebook as-is to store the transcript and video audio in your Google Drive."
      ],
      "metadata": {
        "id": "96kvih9mXkNN"
      }
    },
    {
      "cell_type": "code",
      "source": [
        "#@markdown # **Check GPU type** 🕵️\n",
        "\n",
        "#@markdown The type of GPU you get assigned in your Colab session defined the speed at which the video will be transcribed.\n",
        "#@markdown The higher the number of floating point operations per second (FLOPS), the faster the transcription.\n",
        "#@markdown But even the least powerful GPU available in Colab is able to run any Whisper model.\n",
        "#@markdown Make sure you've selected `GPU` as hardware accelerator for the Notebook (Runtime &rarr; Change runtime type &rarr; Hardware accelerator).\n",
        "\n",
        "#@markdown |  GPU   |  GPU RAM   | FP32 teraFLOPS |     Availability   |\n",
        "#@markdown |:------:|:----------:|:--------------:|:------------------:|\n",
        "#@markdown |  T4    |    16 GB   |       8.1      |         Free       |\n",
        "#@markdown | P100   |    16 GB   |      10.6      |      Colab Pro     |\n",
        "#@markdown | V100   |    16 GB   |      15.7      |  Colab Pro (Rare)  |\n",
        "\n",
        "#@markdown ---\n",
        "#@markdown **Factory reset your Notebook's runtime if you want to get assigned a new GPU.**\n",
        "\n",
        "!nvidia-smi -L\n",
        "\n",
        "!nvidia-smi"
      ],
      "metadata": {
        "id": "QshUbLqpX7L4",
        "outputId": "fee69032-8904-4a50-add9-c317193c940d",
        "colab": {
          "base_uri": "https://localhost:8080/"
        }
      },
      "execution_count": 1,
      "outputs": [
        {
          "output_type": "stream",
          "name": "stdout",
          "text": [
            "GPU 0: Tesla T4 (UUID: GPU-349a03f6-7173-b773-b686-38d1a1144073)\n",
            "Wed Nov 22 02:25:59 2023       \n",
            "+-----------------------------------------------------------------------------+\n",
            "| NVIDIA-SMI 525.105.17   Driver Version: 525.105.17   CUDA Version: 12.0     |\n",
            "|-------------------------------+----------------------+----------------------+\n",
            "| GPU  Name        Persistence-M| Bus-Id        Disp.A | Volatile Uncorr. ECC |\n",
            "| Fan  Temp  Perf  Pwr:Usage/Cap|         Memory-Usage | GPU-Util  Compute M. |\n",
            "|                               |                      |               MIG M. |\n",
            "|===============================+======================+======================|\n",
            "|   0  Tesla T4            Off  | 00000000:00:04.0 Off |                    0 |\n",
            "| N/A   56C    P8    10W /  70W |      0MiB / 15360MiB |      0%      Default |\n",
            "|                               |                      |                  N/A |\n",
            "+-------------------------------+----------------------+----------------------+\n",
            "                                                                               \n",
            "+-----------------------------------------------------------------------------+\n",
            "| Processes:                                                                  |\n",
            "|  GPU   GI   CI        PID   Type   Process name                  GPU Memory |\n",
            "|        ID   ID                                                   Usage      |\n",
            "|=============================================================================|\n",
            "|  No running processes found                                                 |\n",
            "+-----------------------------------------------------------------------------+\n"
          ]
        }
      ]
    },
    {
      "cell_type": "code",
      "execution_count": 2,
      "metadata": {
        "id": "IfG0E_WbRFI0",
        "outputId": "289ebd06-bda2-464f-d51f-ed81f2280a3d",
        "colab": {
          "base_uri": "https://localhost:8080/"
        }
      },
      "outputs": [
        {
          "output_type": "stream",
          "name": "stdout",
          "text": [
            "Collecting faster-whisper\n",
            "  Downloading faster_whisper-0.9.0-py3-none-any.whl (1.5 MB)\n",
            "\u001b[2K     \u001b[90m━━━━━━━━━━━━━━━━━━━━━━━━━━━━━━━━━━━━━━━━\u001b[0m \u001b[32m1.5/1.5 MB\u001b[0m \u001b[31m24.5 MB/s\u001b[0m eta \u001b[36m0:00:00\u001b[0m\n",
            "\u001b[?25hCollecting av==10.* (from faster-whisper)\n",
            "  Downloading av-10.0.0-cp310-cp310-manylinux_2_17_x86_64.manylinux2014_x86_64.whl (31.0 MB)\n",
            "\u001b[2K     \u001b[90m━━━━━━━━━━━━━━━━━━━━━━━━━━━━━━━━━━━━━━━━\u001b[0m \u001b[32m31.0/31.0 MB\u001b[0m \u001b[31m57.5 MB/s\u001b[0m eta \u001b[36m0:00:00\u001b[0m\n",
            "\u001b[?25hCollecting ctranslate2<4,>=3.17 (from faster-whisper)\n",
            "  Downloading ctranslate2-3.21.0-cp310-cp310-manylinux_2_17_x86_64.manylinux2014_x86_64.whl (36.8 MB)\n",
            "\u001b[2K     \u001b[90m━━━━━━━━━━━━━━━━━━━━━━━━━━━━━━━━━━━━━━━━\u001b[0m \u001b[32m36.8/36.8 MB\u001b[0m \u001b[31m17.2 MB/s\u001b[0m eta \u001b[36m0:00:00\u001b[0m\n",
            "\u001b[?25hRequirement already satisfied: huggingface-hub>=0.13 in /usr/local/lib/python3.10/dist-packages (from faster-whisper) (0.19.4)\n",
            "Collecting tokenizers<0.15,>=0.13 (from faster-whisper)\n",
            "  Downloading tokenizers-0.14.1-cp310-cp310-manylinux_2_17_x86_64.manylinux2014_x86_64.whl (3.8 MB)\n",
            "\u001b[2K     \u001b[90m━━━━━━━━━━━━━━━━━━━━━━━━━━━━━━━━━━━━━━━━\u001b[0m \u001b[32m3.8/3.8 MB\u001b[0m \u001b[31m108.3 MB/s\u001b[0m eta \u001b[36m0:00:00\u001b[0m\n",
            "\u001b[?25hCollecting onnxruntime<2,>=1.14 (from faster-whisper)\n",
            "  Downloading onnxruntime-1.16.3-cp310-cp310-manylinux_2_17_x86_64.manylinux2014_x86_64.whl (6.4 MB)\n",
            "\u001b[2K     \u001b[90m━━━━━━━━━━━━━━━━━━━━━━━━━━━━━━━━━━━━━━━━\u001b[0m \u001b[32m6.4/6.4 MB\u001b[0m \u001b[31m116.0 MB/s\u001b[0m eta \u001b[36m0:00:00\u001b[0m\n",
            "\u001b[?25hRequirement already satisfied: numpy in /usr/local/lib/python3.10/dist-packages (from ctranslate2<4,>=3.17->faster-whisper) (1.23.5)\n",
            "Requirement already satisfied: pyyaml<7,>=5.3 in /usr/local/lib/python3.10/dist-packages (from ctranslate2<4,>=3.17->faster-whisper) (6.0.1)\n",
            "Requirement already satisfied: filelock in /usr/local/lib/python3.10/dist-packages (from huggingface-hub>=0.13->faster-whisper) (3.13.1)\n",
            "Requirement already satisfied: fsspec>=2023.5.0 in /usr/local/lib/python3.10/dist-packages (from huggingface-hub>=0.13->faster-whisper) (2023.6.0)\n",
            "Requirement already satisfied: requests in /usr/local/lib/python3.10/dist-packages (from huggingface-hub>=0.13->faster-whisper) (2.31.0)\n",
            "Requirement already satisfied: tqdm>=4.42.1 in /usr/local/lib/python3.10/dist-packages (from huggingface-hub>=0.13->faster-whisper) (4.66.1)\n",
            "Requirement already satisfied: typing-extensions>=3.7.4.3 in /usr/local/lib/python3.10/dist-packages (from huggingface-hub>=0.13->faster-whisper) (4.5.0)\n",
            "Requirement already satisfied: packaging>=20.9 in /usr/local/lib/python3.10/dist-packages (from huggingface-hub>=0.13->faster-whisper) (23.2)\n",
            "Collecting coloredlogs (from onnxruntime<2,>=1.14->faster-whisper)\n",
            "  Downloading coloredlogs-15.0.1-py2.py3-none-any.whl (46 kB)\n",
            "\u001b[2K     \u001b[90m━━━━━━━━━━━━━━━━━━━━━━━━━━━━━━━━━━━━━━━━\u001b[0m \u001b[32m46.0/46.0 kB\u001b[0m \u001b[31m6.1 MB/s\u001b[0m eta \u001b[36m0:00:00\u001b[0m\n",
            "\u001b[?25hRequirement already satisfied: flatbuffers in /usr/local/lib/python3.10/dist-packages (from onnxruntime<2,>=1.14->faster-whisper) (23.5.26)\n",
            "Requirement already satisfied: protobuf in /usr/local/lib/python3.10/dist-packages (from onnxruntime<2,>=1.14->faster-whisper) (3.20.3)\n",
            "Requirement already satisfied: sympy in /usr/local/lib/python3.10/dist-packages (from onnxruntime<2,>=1.14->faster-whisper) (1.12)\n",
            "Collecting huggingface-hub>=0.13 (from faster-whisper)\n",
            "  Downloading huggingface_hub-0.17.3-py3-none-any.whl (295 kB)\n",
            "\u001b[2K     \u001b[90m━━━━━━━━━━━━━━━━━━━━━━━━━━━━━━━━━━━━━━━━\u001b[0m \u001b[32m295.0/295.0 kB\u001b[0m \u001b[31m38.0 MB/s\u001b[0m eta \u001b[36m0:00:00\u001b[0m\n",
            "\u001b[?25hCollecting humanfriendly>=9.1 (from coloredlogs->onnxruntime<2,>=1.14->faster-whisper)\n",
            "  Downloading humanfriendly-10.0-py2.py3-none-any.whl (86 kB)\n",
            "\u001b[2K     \u001b[90m━━━━━━━━━━━━━━━━━━━━━━━━━━━━━━━━━━━━━━━━\u001b[0m \u001b[32m86.8/86.8 kB\u001b[0m \u001b[31m12.0 MB/s\u001b[0m eta \u001b[36m0:00:00\u001b[0m\n",
            "\u001b[?25hRequirement already satisfied: charset-normalizer<4,>=2 in /usr/local/lib/python3.10/dist-packages (from requests->huggingface-hub>=0.13->faster-whisper) (3.3.2)\n",
            "Requirement already satisfied: idna<4,>=2.5 in /usr/local/lib/python3.10/dist-packages (from requests->huggingface-hub>=0.13->faster-whisper) (3.4)\n",
            "Requirement already satisfied: urllib3<3,>=1.21.1 in /usr/local/lib/python3.10/dist-packages (from requests->huggingface-hub>=0.13->faster-whisper) (2.0.7)\n",
            "Requirement already satisfied: certifi>=2017.4.17 in /usr/local/lib/python3.10/dist-packages (from requests->huggingface-hub>=0.13->faster-whisper) (2023.7.22)\n",
            "Requirement already satisfied: mpmath>=0.19 in /usr/local/lib/python3.10/dist-packages (from sympy->onnxruntime<2,>=1.14->faster-whisper) (1.3.0)\n",
            "Installing collected packages: av, humanfriendly, ctranslate2, huggingface-hub, coloredlogs, tokenizers, onnxruntime, faster-whisper\n",
            "  Attempting uninstall: huggingface-hub\n",
            "    Found existing installation: huggingface-hub 0.19.4\n",
            "    Uninstalling huggingface-hub-0.19.4:\n",
            "      Successfully uninstalled huggingface-hub-0.19.4\n",
            "  Attempting uninstall: tokenizers\n",
            "    Found existing installation: tokenizers 0.15.0\n",
            "    Uninstalling tokenizers-0.15.0:\n",
            "      Successfully uninstalled tokenizers-0.15.0\n",
            "Successfully installed av-10.0.0 coloredlogs-15.0.1 ctranslate2-3.21.0 faster-whisper-0.9.0 huggingface-hub-0.17.3 humanfriendly-10.0 onnxruntime-1.16.3 tokenizers-0.14.1\n",
            "Collecting yt-dlp\n",
            "  Downloading yt_dlp-2023.11.16-py2.py3-none-any.whl (3.1 MB)\n",
            "\u001b[2K     \u001b[90m━━━━━━━━━━━━━━━━━━━━━━━━━━━━━━━━━━━━━━━━\u001b[0m \u001b[32m3.1/3.1 MB\u001b[0m \u001b[31m16.4 MB/s\u001b[0m eta \u001b[36m0:00:00\u001b[0m\n",
            "\u001b[?25hCollecting mutagen (from yt-dlp)\n",
            "  Downloading mutagen-1.47.0-py3-none-any.whl (194 kB)\n",
            "\u001b[2K     \u001b[90m━━━━━━━━━━━━━━━━━━━━━━━━━━━━━━━━━━━━━━━━\u001b[0m \u001b[32m194.4/194.4 kB\u001b[0m \u001b[31m15.2 MB/s\u001b[0m eta \u001b[36m0:00:00\u001b[0m\n",
            "\u001b[?25hCollecting pycryptodomex (from yt-dlp)\n",
            "  Downloading pycryptodomex-3.19.0-cp35-abi3-manylinux_2_17_x86_64.manylinux2014_x86_64.whl (2.1 MB)\n",
            "\u001b[2K     \u001b[90m━━━━━━━━━━━━━━━━━━━━━━━━━━━━━━━━━━━━━━━━\u001b[0m \u001b[32m2.1/2.1 MB\u001b[0m \u001b[31m34.2 MB/s\u001b[0m eta \u001b[36m0:00:00\u001b[0m\n",
            "\u001b[?25hCollecting websockets (from yt-dlp)\n",
            "  Downloading websockets-12.0-cp310-cp310-manylinux_2_5_x86_64.manylinux1_x86_64.manylinux_2_17_x86_64.manylinux2014_x86_64.whl (130 kB)\n",
            "\u001b[2K     \u001b[90m━━━━━━━━━━━━━━━━━━━━━━━━━━━━━━━━━━━━━━━━\u001b[0m \u001b[32m130.2/130.2 kB\u001b[0m \u001b[31m18.8 MB/s\u001b[0m eta \u001b[36m0:00:00\u001b[0m\n",
            "\u001b[?25hRequirement already satisfied: certifi in /usr/local/lib/python3.10/dist-packages (from yt-dlp) (2023.7.22)\n",
            "Requirement already satisfied: requests<3,>=2.31.0 in /usr/local/lib/python3.10/dist-packages (from yt-dlp) (2.31.0)\n",
            "Requirement already satisfied: urllib3<3,>=1.26.17 in /usr/local/lib/python3.10/dist-packages (from yt-dlp) (2.0.7)\n",
            "Collecting brotli (from yt-dlp)\n",
            "  Downloading Brotli-1.1.0-cp310-cp310-manylinux_2_5_x86_64.manylinux1_x86_64.manylinux_2_12_x86_64.manylinux2010_x86_64.whl (3.0 MB)\n",
            "\u001b[2K     \u001b[90m━━━━━━━━━━━━━━━━━━━━━━━━━━━━━━━━━━━━━━━━\u001b[0m \u001b[32m3.0/3.0 MB\u001b[0m \u001b[31m48.2 MB/s\u001b[0m eta \u001b[36m0:00:00\u001b[0m\n",
            "\u001b[?25hRequirement already satisfied: charset-normalizer<4,>=2 in /usr/local/lib/python3.10/dist-packages (from requests<3,>=2.31.0->yt-dlp) (3.3.2)\n",
            "Requirement already satisfied: idna<4,>=2.5 in /usr/local/lib/python3.10/dist-packages (from requests<3,>=2.31.0->yt-dlp) (3.4)\n",
            "Installing collected packages: brotli, websockets, pycryptodomex, mutagen, yt-dlp\n",
            "Successfully installed brotli-1.1.0 mutagen-1.47.0 pycryptodomex-3.19.0 websockets-12.0 yt-dlp-2023.11.16\n"
          ]
        },
        {
          "output_type": "stream",
          "name": "stderr",
          "text": [
            "Using device: cuda:0\n"
          ]
        }
      ],
      "source": [
        "#@markdown # **Install libraries** 🏗️\n",
        "#@markdown This cell will take a little while to download several libraries, including Faster Whisper.\n",
        "\n",
        "#@markdown ---\n",
        "\n",
        "! pip install faster-whisper\n",
        "! pip install yt-dlp\n",
        "\n",
        "import sys\n",
        "import warnings\n",
        "from faster_whisper import WhisperModel\n",
        "from pathlib import Path\n",
        "import yt_dlp\n",
        "import subprocess\n",
        "import torch\n",
        "import shutil\n",
        "import numpy as np\n",
        "from IPython.display import display, Markdown, YouTubeVideo\n",
        "\n",
        "device = torch.device('cuda:0')\n",
        "print('Using device:', device, file=sys.stderr)"
      ]
    },
    {
      "cell_type": "code",
      "execution_count": 10,
      "metadata": {
        "id": "1zwGAsr4sIgd",
        "outputId": "e5be4f90-bb0a-44b5-c2ac-650ae045f092",
        "colab": {
          "base_uri": "https://localhost:8080/"
        }
      },
      "outputs": [
        {
          "output_type": "stream",
          "name": "stdout",
          "text": [
            "Drive already mounted at /content/drive; to attempt to forcibly remount, call drive.mount(\"/content/drive\", force_remount=True).\n"
          ]
        }
      ],
      "source": [
        "#@markdown # **Optional:** Save data in Google Drive 💾\n",
        "#@markdown Enter a Google Drive path and run this cell if you want to store the results inside Google Drive.\n",
        "\n",
        "# Uncomment to copy generated images to drive, faster than downloading directly from colab in my experience.\n",
        "from google.colab import drive\n",
        "drive_mount_path = Path(\"/\") / \"content\" / \"drive\"\n",
        "drive.mount(str(drive_mount_path))\n",
        "drive_mount_path /= \"My Drive\"\n",
        "#@markdown ---\n",
        "drive_path = \"\\u7F85\\u6D5A/done_txt\" #@param {type:\"string\"}\n",
        "#@markdown ---\n",
        "#@markdown **Run this cell again if you change your Google Drive path.**\n",
        "\n",
        "drive_whisper_path = drive_mount_path / Path(drive_path.lstrip(\"/\"))\n",
        "drive_whisper_path.mkdir(parents=True, exist_ok=True)"
      ]
    },
    {
      "cell_type": "code",
      "source": [
        "#@markdown # **Model selection** 🧠\n",
        "\n",
        "#@markdown As of the first public release, there are 4 pre-trained options to play with:\n",
        "\n",
        "#@markdown |  Size  | Parameters | English-only model | Multilingual model | Required VRAM | Relative speed |\n",
        "#@markdown |:------:|:----------:|:------------------:|:------------------:|:-------------:|:--------------:|\n",
        "#@markdown |  tiny  |    39 M    |     `tiny.en`      |       `tiny`       |     ~0.8 GB     |      ~32x      |\n",
        "#@markdown |  base  |    74 M    |     `base.en`      |       `base`       |     ~1.0 GB     |      ~16x      |\n",
        "#@markdown | small  |   244 M    |     `small.en`     |      `small`       |     ~1.4 GB     |      ~6x       |\n",
        "#@markdown | medium |   769 M    |    `medium.en`     |      `medium`      |     ~2.7 GB     |      ~2x       |\n",
        "#@markdown | large-v1  |   1550 M   |        N/A         |      `large-v1`       |    ~4.3 GB     |       1x       |\n",
        "#@markdown | large-v2  |   1550 M   |        N/A         |      `large-v2`       |    ~4.3 GB     |       1x       |\n",
        "\n",
        "#@markdown ---\n",
        "model_size = 'large-v2' #@param ['tiny', 'tiny.en', 'base', 'base.en', 'small', 'small.en', 'medium', 'medium.en', 'large-v1', 'large-v2']\n",
        "device_type = \"cuda\" #@param {type:\"string\"} ['cuda', 'cpu']\n",
        "compute_type = \"int8_float16\" #@param {type:\"string\"} ['float16', 'int8_float16', 'int8']\n",
        "#@markdown ---\n",
        "#@markdown **Run this cell again if you change the model.**\n",
        "\n",
        "model = WhisperModel(model_size, device=device_type, compute_type=compute_type)\n"
      ],
      "metadata": {
        "id": "TMhrSq_GZ6kA",
        "colab": {
          "base_uri": "https://localhost:8080/",
          "height": 449,
          "referenced_widgets": [
            "7a0e28561d2e4eebb8d0d1644369314f",
            "520195cdc4f7485cb9b1185ebbed4a7d",
            "f2d0712e5d9b40f3b95eaf970e193c9b",
            "724ccff20c514b4d9873545b3a04239e",
            "90c1472629f4431fb1458dc6beccf898",
            "262b90e4b23544f2a8b9a7ec582b87cd",
            "9bc5d4b8e8eb48a7bf803c7df2987aff",
            "9bb502ad14ce4724a7f81c349f4d45ba",
            "8967958b948d4d308926adc8d9281ee8",
            "33a9cebe512a44198fd1de5de0921577",
            "ae651516af6b450e9a10a0ef8d32a79b",
            "50b51ab237f544fcbc3e6a9ce22a7cb1",
            "14d4eb9504984494947fd764a04a3742",
            "b778efc444b241a08ea15a6fae41cc07",
            "fbb473c1997a4261ba64aaa01ab7ef87",
            "19d5d1c3105c4ee7bc451afd1af0597f",
            "a45be975121e448095ca188178b56924",
            "7525cc4649454ffdb24a656b275f0e5c",
            "831f9e508b7043cb89abee23250c4006",
            "12693ee381b840cb84e095a171a049eb",
            "0721da46a70b4191b0aadad655f273ba",
            "7481f06fd0bd490e9b9d46b0dcc794c1",
            "25090155da0c4344a80fc20bf7f689b0",
            "dfb08ef3e7f24a2a83b08b3988587724",
            "8635d72194c6494ab04581715034e9f6",
            "b08caa51dba84518adb3b8a5f9e1e5bd",
            "70f30f8eb19b4374a03e6d5e6a83c546",
            "b3a300938f09430b92b48417d80b4c7f",
            "aaa88fdd59ac456db1b9b820cf1be8b3",
            "083fedd8d1a74c99a1d15e9f65ac0734",
            "58787a1219f24d9a908a7a3437e49862",
            "238e6582389c453d97c648c82cb244e0",
            "73649999a33a4fddb9c92e554000cad6",
            "c20d7cd74ee7493782ca32a26f179c25",
            "a1ba26425db54435a4a4533170e8d7d0",
            "fb0d082667e24d3a819641c383bc49f8",
            "252beecda2ab4421b8f53076d666e674",
            "06bb5fbe7cb64ace8805f471eae2fc19",
            "8ab2a421c8c14c3b99cdfd6e4bae401a",
            "a6131c7f3fc34697b30dce17d6751611",
            "71faaec53a20490eb8eeb226b40c70ed",
            "a8d0e14d61da4cd6bbd62f5056a3c7b5",
            "8d14e3b0506d415b8ebf87ac0be58ca3",
            "0af4881ef377452abcab5f034ddc2f16"
          ]
        },
        "outputId": "c269ebcf-e8d1-457f-9fec-6137e83ee25e"
      },
      "execution_count": 4,
      "outputs": [
        {
          "output_type": "display_data",
          "data": {
            "text/plain": [
              "Downloading tokenizer.json:   0%|          | 0.00/2.20M [00:00<?, ?B/s]"
            ],
            "application/vnd.jupyter.widget-view+json": {
              "version_major": 2,
              "version_minor": 0,
              "model_id": "7a0e28561d2e4eebb8d0d1644369314f"
            }
          },
          "metadata": {}
        },
        {
          "output_type": "display_data",
          "data": {
            "text/plain": [
              "Downloading vocabulary.txt:   0%|          | 0.00/460k [00:00<?, ?B/s]"
            ],
            "application/vnd.jupyter.widget-view+json": {
              "version_major": 2,
              "version_minor": 0,
              "model_id": "50b51ab237f544fcbc3e6a9ce22a7cb1"
            }
          },
          "metadata": {}
        },
        {
          "output_type": "display_data",
          "data": {
            "text/plain": [
              "Downloading config.json:   0%|          | 0.00/2.80k [00:00<?, ?B/s]"
            ],
            "application/vnd.jupyter.widget-view+json": {
              "version_major": 2,
              "version_minor": 0,
              "model_id": "25090155da0c4344a80fc20bf7f689b0"
            }
          },
          "metadata": {}
        },
        {
          "output_type": "display_data",
          "data": {
            "text/plain": [
              "Downloading model.bin:   0%|          | 0.00/3.09G [00:00<?, ?B/s]"
            ],
            "application/vnd.jupyter.widget-view+json": {
              "version_major": 2,
              "version_minor": 0,
              "model_id": "c20d7cd74ee7493782ca32a26f179c25"
            }
          },
          "metadata": {}
        }
      ]
    },
    {
      "cell_type": "code",
      "source": [
        "#@markdown # **Video selection** 📺\n",
        "\n",
        "#@markdown Enter the URL of the Youtube video you want to transcribe, wether you want to save the audio file in your Google Drive, and run the cell.\n",
        "\n",
        "Type = \"Google Drive\" #@param ['Youtube video or playlist', 'Google Drive']\n",
        "#@markdown ---\n",
        "#@markdown #### **Youtube video or playlist**\n",
        "URL = \"\" #@param {type:\"string\"}\n",
        "# store_audio = True #@param {type:\"boolean\"}\n",
        "#@markdown ---\n",
        "#@markdown #### **Google Drive video, audio (mp4, wav), or folder containing video and/or audio files**\n",
        "video_path = \"\\u7F85\\u6D5A/\\u5F85\\u8F49\\u9010\\u5B57\\u7A3F\" #@param {type:\"string\"}\n",
        "#@markdown ---\n",
        "#@markdown **Run this cell again if you change the video.**\n",
        "\n",
        "video_path_local_list = []\n",
        "\n",
        "if Type == \"Youtube video or playlist\":\n",
        "\n",
        "    ydl_opts = {\n",
        "        'format': 'm4a/bestaudio/best',\n",
        "        'outtmpl': '%(id)s.%(ext)s',\n",
        "        # ℹ️ See help(yt_dlp.postprocessor) for a list of available Postprocessors and their arguments\n",
        "        'postprocessors': [{  # Extract audio using ffmpeg\n",
        "            'key': 'FFmpegExtractAudio',\n",
        "            'preferredcodec': 'wav',\n",
        "        }]\n",
        "    }\n",
        "\n",
        "    with yt_dlp.YoutubeDL(ydl_opts) as ydl:\n",
        "        error_code = ydl.download([URL])\n",
        "        list_video_info = [ydl.extract_info(URL, download=False)]\n",
        "\n",
        "    for video_info in list_video_info:\n",
        "        video_path_local_list.append(Path(f\"{video_info['id']}.wav\"))\n",
        "\n",
        "elif Type == \"Google Drive\":\n",
        "    # video_path_drive = drive_mount_path / Path(video_path.lstrip(\"/\"))\n",
        "    video_path = drive_mount_path / Path(video_path.lstrip(\"/\"))\n",
        "    if video_path.is_dir():\n",
        "        for video_path_drive in video_path.glob(\"**/*\"):\n",
        "            if video_path_drive.is_file():\n",
        "                display(Markdown(f\"**{str(video_path_drive)} selected for transcription.**\"))\n",
        "            elif video_path_drive.is_dir():\n",
        "                display(Markdown(f\"**Subfolders not supported.**\"))\n",
        "            else:\n",
        "                display(Markdown(f\"**{str(video_path_drive)} does not exist, skipping.**\"))\n",
        "            video_path_local = Path(\".\").resolve() / (video_path_drive.name)\n",
        "            shutil.copy(video_path_drive, video_path_local)\n",
        "            video_path_local_list.append(video_path_local)\n",
        "    elif video_path.is_file():\n",
        "        video_path_local = Path(\".\").resolve() / (video_path.name)\n",
        "        shutil.copy(video_path, video_path_local)\n",
        "        video_path_local_list.append(video_path_local)\n",
        "        display(Markdown(f\"**{str(video_path)} selected for transcription.**\"))\n",
        "    else:\n",
        "        display(Markdown(f\"**{str(video_path)} does not exist.**\"))\n",
        "\n",
        "else:\n",
        "    raise(TypeError(\"Please select supported input type.\"))\n",
        "\n",
        "for video_path_local in video_path_local_list:\n",
        "    if video_path_local.suffix == \".mp4\":\n",
        "        video_path_local = video_path_local.with_suffix(\".wav\")\n",
        "        result  = subprocess.run([\"ffmpeg\", \"-i\", str(video_path_local.with_suffix(\".mp4\")), \"-vn\", \"-acodec\", \"pcm_s16le\", \"-ar\", \"16000\", \"-ac\", \"1\", str(video_path_local)])\n"
      ],
      "metadata": {
        "id": "xYLPZQX9S7tU",
        "colab": {
          "base_uri": "https://localhost:8080/",
          "height": 1000
        },
        "outputId": "6d34b400-3c75-46b3-8d50-99e1887556bb"
      },
      "execution_count": 11,
      "outputs": [
        {
          "output_type": "display_data",
          "data": {
            "text/plain": [
              "<IPython.core.display.Markdown object>"
            ],
            "text/markdown": "**/content/drive/My Drive/羅浚/待轉逐字稿/2892第一金_2022Q4法人說明會(英)_20230224.mp3 selected for transcription.**"
          },
          "metadata": {}
        },
        {
          "output_type": "display_data",
          "data": {
            "text/plain": [
              "<IPython.core.display.Markdown object>"
            ],
            "text/markdown": "**/content/drive/My Drive/羅浚/待轉逐字稿/2892第一金_2022Q3法人說明會(英)_20221130.mp3 selected for transcription.**"
          },
          "metadata": {}
        },
        {
          "output_type": "display_data",
          "data": {
            "text/plain": [
              "<IPython.core.display.Markdown object>"
            ],
            "text/markdown": "**/content/drive/My Drive/羅浚/待轉逐字稿/2892第一金_2022Q2法人說明會(英)_20220831.mp3 selected for transcription.**"
          },
          "metadata": {}
        },
        {
          "output_type": "display_data",
          "data": {
            "text/plain": [
              "<IPython.core.display.Markdown object>"
            ],
            "text/markdown": "**/content/drive/My Drive/羅浚/待轉逐字稿/2892第一金_2022Q1法人說明會(英)_20220531.mp3 selected for transcription.**"
          },
          "metadata": {}
        },
        {
          "output_type": "display_data",
          "data": {
            "text/plain": [
              "<IPython.core.display.Markdown object>"
            ],
            "text/markdown": "**/content/drive/My Drive/羅浚/待轉逐字稿/2892第一金_2021Q2法人說明會(英)_20210831.mp3 selected for transcription.**"
          },
          "metadata": {}
        },
        {
          "output_type": "display_data",
          "data": {
            "text/plain": [
              "<IPython.core.display.Markdown object>"
            ],
            "text/markdown": "**/content/drive/My Drive/羅浚/待轉逐字稿/2892第一金_2021Q1法人說明會(英)_20210531.mp3 selected for transcription.**"
          },
          "metadata": {}
        },
        {
          "output_type": "display_data",
          "data": {
            "text/plain": [
              "<IPython.core.display.Markdown object>"
            ],
            "text/markdown": "**/content/drive/My Drive/羅浚/待轉逐字稿/2892第一金_2020Q4法人說明會(英)_20210225.mp3 selected for transcription.**"
          },
          "metadata": {}
        },
        {
          "output_type": "display_data",
          "data": {
            "text/plain": [
              "<IPython.core.display.Markdown object>"
            ],
            "text/markdown": "**/content/drive/My Drive/羅浚/待轉逐字稿/2892第一金_2020Q3法人說明會(英)_20201130.mp3 selected for transcription.**"
          },
          "metadata": {}
        },
        {
          "output_type": "display_data",
          "data": {
            "text/plain": [
              "<IPython.core.display.Markdown object>"
            ],
            "text/markdown": "**/content/drive/My Drive/羅浚/待轉逐字稿/2892第一金_2020Q2法人說明會(英)_20200901.mp3 selected for transcription.**"
          },
          "metadata": {}
        },
        {
          "output_type": "display_data",
          "data": {
            "text/plain": [
              "<IPython.core.display.Markdown object>"
            ],
            "text/markdown": "**/content/drive/My Drive/羅浚/待轉逐字稿/2892第一金_2020Q1法人說明會(英)_20200602.mp3 selected for transcription.**"
          },
          "metadata": {}
        },
        {
          "output_type": "display_data",
          "data": {
            "text/plain": [
              "<IPython.core.display.Markdown object>"
            ],
            "text/markdown": "**/content/drive/My Drive/羅浚/待轉逐字稿/2892第一金_2019Q4法人說明會(英)_20200227.mp3 selected for transcription.**"
          },
          "metadata": {}
        },
        {
          "output_type": "display_data",
          "data": {
            "text/plain": [
              "<IPython.core.display.Markdown object>"
            ],
            "text/markdown": "**/content/drive/My Drive/羅浚/待轉逐字稿/2892第一金_2019Q3法人說明會(英)_20191129.mp3 selected for transcription.**"
          },
          "metadata": {}
        },
        {
          "output_type": "display_data",
          "data": {
            "text/plain": [
              "<IPython.core.display.Markdown object>"
            ],
            "text/markdown": "**/content/drive/My Drive/羅浚/待轉逐字稿/2892第一金_2019Q2法人說明會(英)_20190830.mp3 selected for transcription.**"
          },
          "metadata": {}
        },
        {
          "output_type": "display_data",
          "data": {
            "text/plain": [
              "<IPython.core.display.Markdown object>"
            ],
            "text/markdown": "**/content/drive/My Drive/羅浚/待轉逐字稿/2892第一金_2019Q1法人說明會(英)_20190531.mp3 selected for transcription.**"
          },
          "metadata": {}
        },
        {
          "output_type": "display_data",
          "data": {
            "text/plain": [
              "<IPython.core.display.Markdown object>"
            ],
            "text/markdown": "**/content/drive/My Drive/羅浚/待轉逐字稿/2892第一金_2017Q4法人說明會(英)_20180301.mp3 selected for transcription.**"
          },
          "metadata": {}
        },
        {
          "output_type": "display_data",
          "data": {
            "text/plain": [
              "<IPython.core.display.Markdown object>"
            ],
            "text/markdown": "**/content/drive/My Drive/羅浚/待轉逐字稿/2892第一金_2014Q3法人說明會(英)_20141202.mp4 selected for transcription.**"
          },
          "metadata": {}
        },
        {
          "output_type": "display_data",
          "data": {
            "text/plain": [
              "<IPython.core.display.Markdown object>"
            ],
            "text/markdown": "**/content/drive/My Drive/羅浚/待轉逐字稿/2892第一金_2014Q2法人說明會(英)_20140828.mp4 selected for transcription.**"
          },
          "metadata": {}
        },
        {
          "output_type": "display_data",
          "data": {
            "text/plain": [
              "<IPython.core.display.Markdown object>"
            ],
            "text/markdown": "**/content/drive/My Drive/羅浚/待轉逐字稿/3045台灣大_2022Q4法人說明會(英)_20230224.mp3 selected for transcription.**"
          },
          "metadata": {}
        },
        {
          "output_type": "display_data",
          "data": {
            "text/plain": [
              "<IPython.core.display.Markdown object>"
            ],
            "text/markdown": "**/content/drive/My Drive/羅浚/待轉逐字稿/3045台灣大_2022Q3法人說明會(英)_20221110.mp3 selected for transcription.**"
          },
          "metadata": {}
        },
        {
          "output_type": "display_data",
          "data": {
            "text/plain": [
              "<IPython.core.display.Markdown object>"
            ],
            "text/markdown": "**/content/drive/My Drive/羅浚/待轉逐字稿/3045台灣大_2022Q2法人說明會(英)_20220805.mp3 selected for transcription.**"
          },
          "metadata": {}
        },
        {
          "output_type": "display_data",
          "data": {
            "text/plain": [
              "<IPython.core.display.Markdown object>"
            ],
            "text/markdown": "**/content/drive/My Drive/羅浚/待轉逐字稿/3045台灣大_2022Q1法人說明會(英)_20220506.mp3 selected for transcription.**"
          },
          "metadata": {}
        },
        {
          "output_type": "display_data",
          "data": {
            "text/plain": [
              "<IPython.core.display.Markdown object>"
            ],
            "text/markdown": "**/content/drive/My Drive/羅浚/待轉逐字稿/3045台灣大_2013Q4法人說明會(英)_20140128.wma selected for transcription.**"
          },
          "metadata": {}
        },
        {
          "output_type": "display_data",
          "data": {
            "text/plain": [
              "<IPython.core.display.Markdown object>"
            ],
            "text/markdown": "**/content/drive/My Drive/羅浚/待轉逐字稿/3045台灣大_2009Q1法人說明會(英)_20090430.wma selected for transcription.**"
          },
          "metadata": {}
        },
        {
          "output_type": "display_data",
          "data": {
            "text/plain": [
              "<IPython.core.display.Markdown object>"
            ],
            "text/markdown": "**/content/drive/My Drive/羅浚/待轉逐字稿/3045台灣大_2021Q4法人說明會(英)_20220222.mp3 selected for transcription.**"
          },
          "metadata": {}
        },
        {
          "output_type": "display_data",
          "data": {
            "text/plain": [
              "<IPython.core.display.Markdown object>"
            ],
            "text/markdown": "**/content/drive/My Drive/羅浚/待轉逐字稿/3045台灣大_2021Q2法人說明會(英)_20210805.mp3 selected for transcription.**"
          },
          "metadata": {}
        },
        {
          "output_type": "display_data",
          "data": {
            "text/plain": [
              "<IPython.core.display.Markdown object>"
            ],
            "text/markdown": "**/content/drive/My Drive/羅浚/待轉逐字稿/3045台灣大_2021Q1法人說明會(英)_20210504.mp3 selected for transcription.**"
          },
          "metadata": {}
        },
        {
          "output_type": "display_data",
          "data": {
            "text/plain": [
              "<IPython.core.display.Markdown object>"
            ],
            "text/markdown": "**/content/drive/My Drive/羅浚/待轉逐字稿/3045台灣大_2020Q4法人說明會(英)_20210225.mp3 selected for transcription.**"
          },
          "metadata": {}
        },
        {
          "output_type": "display_data",
          "data": {
            "text/plain": [
              "<IPython.core.display.Markdown object>"
            ],
            "text/markdown": "**/content/drive/My Drive/羅浚/待轉逐字稿/3045台灣大_2020Q3法人說明會(英)_20211106.mp3 selected for transcription.**"
          },
          "metadata": {}
        },
        {
          "output_type": "display_data",
          "data": {
            "text/plain": [
              "<IPython.core.display.Markdown object>"
            ],
            "text/markdown": "**/content/drive/My Drive/羅浚/待轉逐字稿/3045台灣大_2020Q2法人說明會(英)_20210804.mp3 selected for transcription.**"
          },
          "metadata": {}
        },
        {
          "output_type": "display_data",
          "data": {
            "text/plain": [
              "<IPython.core.display.Markdown object>"
            ],
            "text/markdown": "**/content/drive/My Drive/羅浚/待轉逐字稿/3045台灣大_2020Q1法人說明會(英)_20200430.mp3 selected for transcription.**"
          },
          "metadata": {}
        },
        {
          "output_type": "display_data",
          "data": {
            "text/plain": [
              "<IPython.core.display.Markdown object>"
            ],
            "text/markdown": "**/content/drive/My Drive/羅浚/待轉逐字稿/3045台灣大_2019Q4法人說明會(英)_20200220.mp3 selected for transcription.**"
          },
          "metadata": {}
        },
        {
          "output_type": "display_data",
          "data": {
            "text/plain": [
              "<IPython.core.display.Markdown object>"
            ],
            "text/markdown": "**/content/drive/My Drive/羅浚/待轉逐字稿/3045台灣大_2019Q3法人說明會(英)_20191108.mp3 selected for transcription.**"
          },
          "metadata": {}
        },
        {
          "output_type": "display_data",
          "data": {
            "text/plain": [
              "<IPython.core.display.Markdown object>"
            ],
            "text/markdown": "**/content/drive/My Drive/羅浚/待轉逐字稿/3045台灣大_2019Q2法人說明會(英)_20190725.mp3 selected for transcription.**"
          },
          "metadata": {}
        },
        {
          "output_type": "display_data",
          "data": {
            "text/plain": [
              "<IPython.core.display.Markdown object>"
            ],
            "text/markdown": "**/content/drive/My Drive/羅浚/待轉逐字稿/3045台灣大_2019Q1法人說明會(英)_20190430.mp3 selected for transcription.**"
          },
          "metadata": {}
        },
        {
          "output_type": "display_data",
          "data": {
            "text/plain": [
              "<IPython.core.display.Markdown object>"
            ],
            "text/markdown": "**/content/drive/My Drive/羅浚/待轉逐字稿/3045台灣大_2013Q3法人說明會(英)_20131031.wma selected for transcription.**"
          },
          "metadata": {}
        },
        {
          "output_type": "display_data",
          "data": {
            "text/plain": [
              "<IPython.core.display.Markdown object>"
            ],
            "text/markdown": "**/content/drive/My Drive/羅浚/待轉逐字稿/3045台灣大_2013Q2法人說明會(英)_20130730.wma selected for transcription.**"
          },
          "metadata": {}
        },
        {
          "output_type": "display_data",
          "data": {
            "text/plain": [
              "<IPython.core.display.Markdown object>"
            ],
            "text/markdown": "**/content/drive/My Drive/羅浚/待轉逐字稿/3045台灣大_2013Q1法人說明會(英)_20130430.wma selected for transcription.**"
          },
          "metadata": {}
        },
        {
          "output_type": "display_data",
          "data": {
            "text/plain": [
              "<IPython.core.display.Markdown object>"
            ],
            "text/markdown": "**/content/drive/My Drive/羅浚/待轉逐字稿/3045台灣大_2012Q1法人說明會(英)_20120508.wma selected for transcription.**"
          },
          "metadata": {}
        },
        {
          "output_type": "display_data",
          "data": {
            "text/plain": [
              "<IPython.core.display.Markdown object>"
            ],
            "text/markdown": "**/content/drive/My Drive/羅浚/待轉逐字稿/3045台灣大_2012Q3法人說明會(英)_20121025.wma selected for transcription.**"
          },
          "metadata": {}
        },
        {
          "output_type": "display_data",
          "data": {
            "text/plain": [
              "<IPython.core.display.Markdown object>"
            ],
            "text/markdown": "**/content/drive/My Drive/羅浚/待轉逐字稿/3045台灣大_2012Q2法人說明會(英)_20120726.wma selected for transcription.**"
          },
          "metadata": {}
        },
        {
          "output_type": "display_data",
          "data": {
            "text/plain": [
              "<IPython.core.display.Markdown object>"
            ],
            "text/markdown": "**/content/drive/My Drive/羅浚/待轉逐字稿/3045台灣大_2012Q4法人說明會(英)_20130131.wma selected for transcription.**"
          },
          "metadata": {}
        },
        {
          "output_type": "display_data",
          "data": {
            "text/plain": [
              "<IPython.core.display.Markdown object>"
            ],
            "text/markdown": "**/content/drive/My Drive/羅浚/待轉逐字稿/3045台灣大_2011Q4法人說明會(英)_20120426.wma selected for transcription.**"
          },
          "metadata": {}
        },
        {
          "output_type": "display_data",
          "data": {
            "text/plain": [
              "<IPython.core.display.Markdown object>"
            ],
            "text/markdown": "**/content/drive/My Drive/羅浚/待轉逐字稿/3045台灣大_2011Q3法人說明會(英)_20111027.wma selected for transcription.**"
          },
          "metadata": {}
        },
        {
          "output_type": "display_data",
          "data": {
            "text/plain": [
              "<IPython.core.display.Markdown object>"
            ],
            "text/markdown": "**/content/drive/My Drive/羅浚/待轉逐字稿/3045台灣大_2011Q1法人說明會(英)_20110428.wma selected for transcription.**"
          },
          "metadata": {}
        },
        {
          "output_type": "display_data",
          "data": {
            "text/plain": [
              "<IPython.core.display.Markdown object>"
            ],
            "text/markdown": "**/content/drive/My Drive/羅浚/待轉逐字稿/3045台灣大_2010Q1法人說明會(英)_20200429.wma selected for transcription.**"
          },
          "metadata": {}
        },
        {
          "output_type": "display_data",
          "data": {
            "text/plain": [
              "<IPython.core.display.Markdown object>"
            ],
            "text/markdown": "**/content/drive/My Drive/羅浚/待轉逐字稿/3045台灣大_2010Q2法人說明會(英)_20100727.wma selected for transcription.**"
          },
          "metadata": {}
        },
        {
          "output_type": "display_data",
          "data": {
            "text/plain": [
              "<IPython.core.display.Markdown object>"
            ],
            "text/markdown": "**/content/drive/My Drive/羅浚/待轉逐字稿/3045台灣大_2010Q3法人說明會(英)_20101028.wma selected for transcription.**"
          },
          "metadata": {}
        },
        {
          "output_type": "display_data",
          "data": {
            "text/plain": [
              "<IPython.core.display.Markdown object>"
            ],
            "text/markdown": "**/content/drive/My Drive/羅浚/待轉逐字稿/3045台灣大_2010Q4法人說明會(英)_20110127.wma selected for transcription.**"
          },
          "metadata": {}
        },
        {
          "output_type": "display_data",
          "data": {
            "text/plain": [
              "<IPython.core.display.Markdown object>"
            ],
            "text/markdown": "**/content/drive/My Drive/羅浚/待轉逐字稿/3045台灣大_2009Q4法人說明會(英)_20100128.wma selected for transcription.**"
          },
          "metadata": {}
        },
        {
          "output_type": "display_data",
          "data": {
            "text/plain": [
              "<IPython.core.display.Markdown object>"
            ],
            "text/markdown": "**/content/drive/My Drive/羅浚/待轉逐字稿/3045台灣大_2009Q3法人說明會(英)_20091029.wma selected for transcription.**"
          },
          "metadata": {}
        },
        {
          "output_type": "display_data",
          "data": {
            "text/plain": [
              "<IPython.core.display.Markdown object>"
            ],
            "text/markdown": "**/content/drive/My Drive/羅浚/待轉逐字稿/3045台灣大_2009Q2法人說明會(英)_20090730.wma selected for transcription.**"
          },
          "metadata": {}
        },
        {
          "output_type": "display_data",
          "data": {
            "text/plain": [
              "<IPython.core.display.Markdown object>"
            ],
            "text/markdown": "**/content/drive/My Drive/羅浚/待轉逐字稿/4904遠傳_2022Q3法人說明會(英)_20221111.mp3 selected for transcription.**"
          },
          "metadata": {}
        },
        {
          "output_type": "display_data",
          "data": {
            "text/plain": [
              "<IPython.core.display.Markdown object>"
            ],
            "text/markdown": "**/content/drive/My Drive/羅浚/待轉逐字稿/4904遠傳_2022Q2法人說明會(英)_20220803.mp3 selected for transcription.**"
          },
          "metadata": {}
        },
        {
          "output_type": "display_data",
          "data": {
            "text/plain": [
              "<IPython.core.display.Markdown object>"
            ],
            "text/markdown": "**/content/drive/My Drive/羅浚/待轉逐字稿/4904遠傳_2022Q1法人說明會(英)_20220504.mp3 selected for transcription.**"
          },
          "metadata": {}
        },
        {
          "output_type": "display_data",
          "data": {
            "text/plain": [
              "<IPython.core.display.Markdown object>"
            ],
            "text/markdown": "**/content/drive/My Drive/羅浚/待轉逐字稿/4904遠傳_2021Q4法人說明會(英)_20220301.mp3 selected for transcription.**"
          },
          "metadata": {}
        },
        {
          "output_type": "display_data",
          "data": {
            "text/plain": [
              "<IPython.core.display.Markdown object>"
            ],
            "text/markdown": "**/content/drive/My Drive/羅浚/待轉逐字稿/4904遠傳_2021Q2法人說明會(英)_20210730.mp3 selected for transcription.**"
          },
          "metadata": {}
        },
        {
          "output_type": "display_data",
          "data": {
            "text/plain": [
              "<IPython.core.display.Markdown object>"
            ],
            "text/markdown": "**/content/drive/My Drive/羅浚/待轉逐字稿/4904遠傳_2021Q1法人說明會(英)_20210506.mp3 selected for transcription.**"
          },
          "metadata": {}
        },
        {
          "output_type": "display_data",
          "data": {
            "text/plain": [
              "<IPython.core.display.Markdown object>"
            ],
            "text/markdown": "**/content/drive/My Drive/羅浚/待轉逐字稿/4904遠傳_2020Q4法人說明會(英)_20210225.mp3 selected for transcription.**"
          },
          "metadata": {}
        },
        {
          "output_type": "display_data",
          "data": {
            "text/plain": [
              "<IPython.core.display.Markdown object>"
            ],
            "text/markdown": "**/content/drive/My Drive/羅浚/待轉逐字稿/4904遠傳_2020Q3法人說明會(英)_20201105.mp3 selected for transcription.**"
          },
          "metadata": {}
        },
        {
          "output_type": "display_data",
          "data": {
            "text/plain": [
              "<IPython.core.display.Markdown object>"
            ],
            "text/markdown": "**/content/drive/My Drive/羅浚/待轉逐字稿/4904遠傳_2020Q2法人說明會(英)_20200731.mp3 selected for transcription.**"
          },
          "metadata": {}
        },
        {
          "output_type": "display_data",
          "data": {
            "text/plain": [
              "<IPython.core.display.Markdown object>"
            ],
            "text/markdown": "**/content/drive/My Drive/羅浚/待轉逐字稿/4904遠傳_2020Q1法人說明會(英)_20200507.mp3 selected for transcription.**"
          },
          "metadata": {}
        },
        {
          "output_type": "display_data",
          "data": {
            "text/plain": [
              "<IPython.core.display.Markdown object>"
            ],
            "text/markdown": "**/content/drive/My Drive/羅浚/待轉逐字稿/4904遠傳_2019Q4法人說明會(英)_20200219.mp3 selected for transcription.**"
          },
          "metadata": {}
        },
        {
          "output_type": "display_data",
          "data": {
            "text/plain": [
              "<IPython.core.display.Markdown object>"
            ],
            "text/markdown": "**/content/drive/My Drive/羅浚/待轉逐字稿/4904遠傳_2019Q3法人說明會(英)_20191106.mp3 selected for transcription.**"
          },
          "metadata": {}
        },
        {
          "output_type": "display_data",
          "data": {
            "text/plain": [
              "<IPython.core.display.Markdown object>"
            ],
            "text/markdown": "**/content/drive/My Drive/羅浚/待轉逐字稿/4904遠傳_2019Q2法人說明會(英)_20190802.mp3 selected for transcription.**"
          },
          "metadata": {}
        },
        {
          "output_type": "display_data",
          "data": {
            "text/plain": [
              "<IPython.core.display.Markdown object>"
            ],
            "text/markdown": "**/content/drive/My Drive/羅浚/待轉逐字稿/4904遠傳_2019Q1法人說明會(英)_20190508.mp3 selected for transcription.**"
          },
          "metadata": {}
        },
        {
          "output_type": "display_data",
          "data": {
            "text/plain": [
              "<IPython.core.display.Markdown object>"
            ],
            "text/markdown": "**/content/drive/My Drive/羅浚/待轉逐字稿/4904遠傳_2013Q3法人說明會(英)_20131029.wma selected for transcription.**"
          },
          "metadata": {}
        },
        {
          "output_type": "display_data",
          "data": {
            "text/plain": [
              "<IPython.core.display.Markdown object>"
            ],
            "text/markdown": "**/content/drive/My Drive/羅浚/待轉逐字稿/4904遠傳_2013Q1法人說明會(英)_20130426.wma selected for transcription.**"
          },
          "metadata": {}
        },
        {
          "output_type": "display_data",
          "data": {
            "text/plain": [
              "<IPython.core.display.Markdown object>"
            ],
            "text/markdown": "**/content/drive/My Drive/羅浚/待轉逐字稿/4904遠傳_2012Q4法人說明會(英)_20130207.wma selected for transcription.**"
          },
          "metadata": {}
        },
        {
          "output_type": "display_data",
          "data": {
            "text/plain": [
              "<IPython.core.display.Markdown object>"
            ],
            "text/markdown": "**/content/drive/My Drive/羅浚/待轉逐字稿/4904遠傳_2012Q3法人說明會(英)_20121108.wma selected for transcription.**"
          },
          "metadata": {}
        },
        {
          "output_type": "display_data",
          "data": {
            "text/plain": [
              "<IPython.core.display.Markdown object>"
            ],
            "text/markdown": "**/content/drive/My Drive/羅浚/待轉逐字稿/4904遠傳_2012Q2法人說明會(英)_20120725.wma selected for transcription.**"
          },
          "metadata": {}
        },
        {
          "output_type": "display_data",
          "data": {
            "text/plain": [
              "<IPython.core.display.Markdown object>"
            ],
            "text/markdown": "**/content/drive/My Drive/羅浚/待轉逐字稿/4904遠傳_2012Q1法人說明會(英)_20120420.wma selected for transcription.**"
          },
          "metadata": {}
        }
      ]
    },
    {
      "cell_type": "code",
      "source": [
        "def seconds_to_time_format(s):\n",
        "    # Convert seconds to hours, minutes, seconds, and milliseconds\n",
        "    hours = s // 3600\n",
        "    s %= 3600\n",
        "    minutes = s // 60\n",
        "    s %= 60\n",
        "    seconds = s // 1\n",
        "    milliseconds = round((s % 1) * 1000)\n",
        "\n",
        "    # Return the formatted string\n",
        "    return f\"{int(hours):02d}:{int(minutes):02d}:{int(seconds):02d},{int(milliseconds):03d}\"\n",
        "\n",
        "#@markdown # **Run the model** 🚀\n",
        "\n",
        "#@markdown Run this cell to execute the transcription of the video. This can take a while and very based on the length of the video and the number of parameters of the model selected above.\n",
        "\n",
        "#@markdown ## **Parameters** ⚙️\n",
        "\n",
        "#@markdown ### **Behavior control**\n",
        "#@markdown #### Language\n",
        "language = \"auto\" #@param [\"auto\", \"en\", \"zh\", \"ja\", \"fr\", \"de\"] {allow-input: true}\n",
        "#@markdown #### initial prompt\n",
        "initial_prompt = \"Please do not translate, only transcription be allowed.  Here are some English words you may need: Cindy. And Chinese words: \\u7206\\u7834\" #@param {type:\"string\"}\n",
        "#@markdown ---\n",
        "#@markdown #### Word-level timestamps\n",
        "word_level_timestamps = False #@param {type:\"boolean\"}\n",
        "#@markdown ---\n",
        "#@markdown #### VAD filter\n",
        "vad_filter = True #@param {type:\"boolean\"}\n",
        "vad_filter_min_silence_duration_ms = 50 #@param {type:\"integer\"}\n",
        "#@markdown ---\n",
        "#@markdown #### Output(Default is srt, txt if `text_only` be checked )\n",
        "text_only = True #@param {type:\"boolean\"}\n",
        "\n",
        "\n",
        "# 遍歷 video_path_local_list，為每個文件進行轉錄\n",
        "for video_path_local in video_path_local_list:\n",
        "    # 轉換 MP4 文件到 WAV 格式（如果需要）\n",
        "    if video_path_local.suffix == \".mp4\":\n",
        "        video_path_local = video_path_local.with_suffix(\".wav\")\n",
        "        subprocess.run([\"ffmpeg\", \"-i\", str(video_path_local.with_suffix(\".mp4\")), \"-vn\", \"-acodec\", \"pcm_s16le\", \"-ar\", \"16000\", \"-ac\", \"1\", str(video_path_local)])\n",
        "\n",
        "    # 執行轉錄\n",
        "    segments, info = model.transcribe(str(video_path_local), beam_size=5,\n",
        "                                      language=None if language == \"auto\" else language,\n",
        "                                      initial_prompt=initial_prompt,\n",
        "                                      word_timestamps=word_level_timestamps,\n",
        "                                      vad_filter=vad_filter,\n",
        "                                      vad_parameters=dict(min_silence_duration_ms=vad_filter_min_silence_duration_ms))\n",
        "\n",
        "    display(Markdown(f\"Detected language '{info.language}' with probability {info.language_probability}\"))\n",
        "\n",
        "    # 生成逐字稿文件\n",
        "    ext_name = '.txt' if text_only else \".srt\"\n",
        "    transcript_file_name = video_path_local.stem + ext_name\n",
        "    sentence_idx = 1\n",
        "    with open(transcript_file_name, 'w') as f:\n",
        "        for segment in segments:\n",
        "            if word_level_timestamps:\n",
        "                for word in segment.words:\n",
        "                    ts_start = seconds_to_time_format(word.start)\n",
        "                    ts_end = seconds_to_time_format(word.end)\n",
        "                    print(f\"[{ts_start} --> {ts_end}] {word.word}\")\n",
        "                    if not text_only:\n",
        "                        f.write(f\"{sentence_idx}\\n\")\n",
        "                        f.write(f\"{ts_start} --> {ts_end}\\n\")\n",
        "                        f.write(f\"{word.word}\\n\\n\")\n",
        "                    else:\n",
        "                        f.write(f\"{word.word} \")\n",
        "                    sentence_idx += 1\n",
        "            else:\n",
        "                ts_start = seconds_to_time_format(segment.start)\n",
        "                ts_end = seconds_to_time_format(segment.end)\n",
        "                print(f\"[{ts_start} --> {ts_end}] {segment.text}\")\n",
        "                if not text_only:\n",
        "                    f.write(f\"{sentence_idx}\\n\")\n",
        "                    f.write(f\"{ts_start} --> {ts_end}\\n\")\n",
        "                    f.write(f\"{segment.text.strip()}\\n\\n\")\n",
        "                else:\n",
        "                    f.write(f\"{segment.text.strip()}\\n\")\n",
        "                sentence_idx += 1\n",
        "        if text_only:\n",
        "            f.write(\"\\n\")  # 確保在文本模式下換行\n",
        "\n",
        "\n",
        "    try:\n",
        "        shutil.copy(video_path_local.parent / transcript_file_name,\n",
        "                    drive_whisper_path / transcript_file_name\n",
        "        )\n",
        "        display(Markdown(f\"**Transcript file created: {drive_whisper_path / transcript_file_name}**\"))\n",
        "    except:\n",
        "        display(Markdown(f\"**Transcript file created: {video_path_local.parent / transcript_file_name}**\"))\n"
      ],
      "metadata": {
        "id": "Ad6n1m4deAHp",
        "collapsed": true,
        "colab": {
          "base_uri": "https://localhost:8080/",
          "height": 1000
        },
        "outputId": "028c7d3d-1a63-489c-d857-106e1082e8b2"
      },
      "execution_count": null,
      "outputs": [
        {
          "output_type": "display_data",
          "data": {
            "text/plain": [
              "<IPython.core.display.Markdown object>"
            ],
            "text/markdown": "Detected language 'en' with probability 0.98779296875"
          },
          "metadata": {}
        },
        {
          "output_type": "stream",
          "name": "stdout",
          "text": [
            "[00:00:00,740 --> 00:00:07,940]  Hi, I'm Casey. Good afternoon, everyone. Welcome to join us for First Financial Holding 2022\n",
            "[00:00:07,940 --> 00:00:14,820]  Four-Year Earnings Results. As usual, we will start with our presentation,\n",
            "[00:00:15,870 --> 00:00:21,630]  including 2022 performance summary, financial highlights, and operating results.\n",
            "[00:00:22,190 --> 00:00:29,150]  After the presentation, we'll invite Ms. Annie Lee, our IR head and head of IR,\n",
            "[00:00:29,150 --> 00:00:35,390]  to proceed the Q&A session. You can raise your questions by typing at the bottom of the webcast\n",
            "[00:00:35,390 --> 00:00:42,910]  window. Either in English or Chinese is fine with us. Or you can email us your questions\n",
            "[00:00:42,910 --> 00:00:50,770]  after today's conference. Now I'd like to turn over to Mr. Keith Ko to begin today's presentation.\n",
            "[00:00:50,770 --> 00:00:55,250]  Keith. Okay, thank you, Casey. Okay,\n",
            "[00:00:55,250 --> 00:01:03,170]  please turn to slide five. This graph shows the net income trend in past eight years,\n",
            "[00:01:04,110 --> 00:01:12,690]  and it's the first time that the group reached $20 billion earnings. And please flip to slide\n",
            "[00:01:12,690 --> 00:01:24,080]  six. This slide is the readout for group's performance in 2022. As we just mentioned,\n",
            "[00:01:24,080 --> 00:01:34,080]  group reported a historical high of $20.6 billion earnings with 4.3% growth worldwide in 2022.\n",
            "[00:01:35,660 --> 00:01:43,740]  Strong momentum from bank unit was the key point. Other subsidiaries might show some setbacks.\n",
            "[00:01:44,380 --> 00:01:52,260]  However, it all made contributions with positive results. Bank's four-year results\n",
            "[00:01:52,820 --> 00:02:01,970]  also reached $20.3 billion NT dollars, widened the gap between US and NT dollar rates, shifted\n",
            "[00:02:01,970 --> 00:02:10,530]  the funds from interbank lending to currency swap, sorry, and boosted the treasury gain.\n",
            "[00:02:12,370 --> 00:02:22,050]  Even though core earnings remained intact as well. Stepping into 2023, it's necessary to be\n",
            "[00:02:22,050 --> 00:02:31,140]  more careful about the industry's development. Manufacturing sector continued to shift inventories\n",
            "[00:02:31,140 --> 00:02:40,320]  and orders, while non-manufacturing also needed to adapt to new norms for post-COVID era.\n",
            "[00:02:43,310 --> 00:02:51,790]  Since capital markets was full of uncertainty, risk averse and portfolio relocation seemed to\n",
            "[00:02:51,790 --> 00:03:01,360]  be a must. Wealth management business would be involved again. We think the products with\n",
            "[00:03:01,360 --> 00:03:11,520]  overarching vision would take the lead. As of the overseas development, Frankfurt branch has\n",
            "[00:03:11,520 --> 00:03:19,310]  opened in January, eyeing on Europe's long-term growth potential. Okay, let's move to financial\n",
            "[00:03:19,310 --> 00:03:28,060]  highlights. Please turn to slide eight. This slide shows group's key figures. Group's consolidated\n",
            "[00:03:28,460 --> 00:03:38,530]  income was $20.6 billion NT dollars with 4.3% growth as we mentioned. Increased market losses\n",
            "[00:03:38,530 --> 00:03:53,600]  after comprehensive income with 15.8% decline. EPS finished at $1.56 with 4.7% growth. ROE\n",
            "[00:03:54,160 --> 00:04:03,630]  increased 3.6%. ROE dropped 5.5%. Please take other figures as reference. Let's move to slide\n",
            "[00:04:03,630 --> 00:04:13,010]  nine. This slide provides the breakdown of group's net income. Total net revenue improved 8.2% to\n",
            "[00:04:13,010 --> 00:04:21,580]  reach $67.8 billion NT dollars. Even with higher credit charge left a year, the total net income\n",
            "[00:04:21,980 --> 00:04:31,280]  finished with 4.3% growth. And slide 10 displays the earnings of major subsidiaries. Group's net\n",
            "[00:04:31,280 --> 00:04:40,270]  income was mainly supported by bank's outstanding results, which had 15.2% growth worldwide. First\n",
            "[00:04:40,270 --> 00:04:48,130]  securities and first live were both impacted by the turbulent financial markets and generated\n",
            "[00:04:48,290 --> 00:05:00,510]  regressive results. And next part, operating results. Please turn to slide 12. This slide\n",
            "[00:05:00,510 --> 00:05:10,050]  shows group and bank's net income and ROE. Group's net income was $20.6 billion NT dollars with 9.2%\n",
            "[00:05:10,050 --> 00:05:19,650]  ROE. Bank's net income also reached $20.3 billion NT dollars with almost 9% ROE. Please turn to\n",
            "[00:05:19,730 --> 00:05:28,370]  slide 13. This slide provides the breakdown of bank's earnings structure. Cumulative net revenue\n",
            "[00:05:28,370 --> 00:05:41,220]  of 2022 finished at $54.5 billion NT dollars with tremendous 16.3% growth worldwide. Net interest\n",
            "[00:05:41,220 --> 00:05:48,020]  income had 8.5% growth, even though part of the interbank lending has shifted to swap.\n",
            "[00:05:49,470 --> 00:05:58,530]  Fee income grew moderately with only 1.7% ROI. Gains on investment was attributed by the swap\n",
            "[00:05:58,530 --> 00:06:08,540]  gains, which had a 74.7% growth worldwide. Credit charge in 2022 was higher than our expectation,\n",
            "[00:06:08,540 --> 00:06:18,270]  with 37.2% increase. However, it do help to create a higher coverage ratio to stay for rainy days.\n",
            "[00:06:19,710 --> 00:06:29,440]  Please turn to next slide. Slide 14 presents the loan book mix. Total loan book came to $2.32\n",
            "[00:06:29,440 --> 00:06:38,500]  trillion NT dollars. 13.6% growth worldwide. The huge increase in loan book was also one of the\n",
            "[00:06:38,500 --> 00:06:48,180]  reasons to boost the net interest income. As of the breakdown, large corporate loan had a 54.9%\n",
            "[00:06:48,260 --> 00:06:59,580]  increase, leading all sectors. Mortgage grew by 10.5%. SME had a 7.3% growth. FX loan also\n",
            "[00:06:59,580 --> 00:07:08,080]  increased 12.6%, especially from overseas branches, which had a 21.7% growth worldwide.\n",
            "[00:07:10,110 --> 00:07:15,070]  Slide 15 shows the QOQ trend of loan growth. Please take it as reference.\n",
            "[00:07:16,900 --> 00:07:27,630]  Okay, let's move to slide 16. This slide shows the trends of LDR spread and NIM. LDR dropped to\n",
            "[00:07:27,630 --> 00:07:39,150]  70.6% in fourth quarter. However, it still stood over 70% comparing with 69.7% at the end of 2021.\n",
            "[00:07:41,100 --> 00:07:51,580]  NT dollar LDR slid a little bit to 81.6%. FX LDR was also down to 44.3% QOQ.\n",
            "[00:07:53,230 --> 00:08:02,190]  Loan-to-deposit spread continued to improve to 1.48%, while NIM dropped to 0.99%.\n",
            "[00:08:03,340 --> 00:08:10,700]  As we mentioned earlier, it's partially caused by the funding shift from interbank lending to swap.\n",
            "[00:08:11,460 --> 00:08:22,940]  So the adjusted NIM was still on a growing trend. Please turn to slide 17. This slide shows QOQ\n",
            "[00:08:22,940 --> 00:08:34,770]  trend of NT dollar and FX spread. NT dollar spread stayed flat at 1.38%. FX spread continued to\n",
            "[00:08:34,850 --> 00:08:44,900]  increase 31 bps to reach 2.82% now. That also tells why the swap gains was huge.\n",
            "[00:08:46,990 --> 00:08:57,470]  Okay, please turn to slide 18. This slide shows the deposit mix. Total deposit was up 11.9% worldwide.\n",
            "[00:08:58,480 --> 00:09:06,720]  FX deposit increased 12.2%. While NT dollar deposit also had 11.7% growth.\n",
            "[00:09:07,970 --> 00:09:16,050]  The demand for NT dollar deposit was impressive in QOQ. And on right-hand side, it shows that\n",
            "[00:09:16,050 --> 00:09:26,320]  the CASA rate slightly dropped to 68% now. Please turn to next slide. Slide 19 shows the loan book\n",
            "[00:09:26,320 --> 00:09:34,210]  concentration of major exporters. You can just take it as a reference. Let's move to slide 20.\n",
            "[00:09:37,360 --> 00:09:43,040]  This slide shows the mortgage book, yield, LTV ratios, and new mortgage lending trend.\n",
            "[00:09:44,420 --> 00:09:52,660]  Mortgage yield continued to rise up to 1.97%. Both new mortgage LTV ratio and average mortgage\n",
            "[00:09:52,660 --> 00:10:04,130]  LTV ratio stayed stable at 64.7% and 46.8% respectively. Buck and bar chart presents\n",
            "[00:10:04,130 --> 00:10:12,220]  monthly new mortgage lending trend. Please take it as reference. Okay, let's move to slide 21.\n",
            "[00:10:14,620 --> 00:10:23,980]  Cumulative net fee income of 2022 was 8.1 billion NT dollars with 1.7% growth worldwide.\n",
            "[00:10:25,040 --> 00:10:33,310]  Wealth management fee income was the key issue to hold the growth, which decreased 2.8% due to\n",
            "[00:10:33,310 --> 00:10:40,700]  lackluster mutual fund sales. Bank insurance supported the wealth management fee income\n",
            "[00:10:40,700 --> 00:10:49,490]  instead. On the other hand, loan-related fee income was quite strong with 13.9% growth worldwide\n",
            "[00:10:49,490 --> 00:10:58,770]  due to solid loan demand. Okay, please turn to slide 22 for the QOQ trend. Total fee income in\n",
            "[00:10:58,770 --> 00:11:05,100]  fourth quarter was trending up with higher bank insurance fee revenue. However, the mutual fund\n",
            "[00:11:05,100 --> 00:11:12,740]  sales continued to stay mute in fourth quarter. Please turn to slide 23 for operating expense.\n",
            "[00:11:15,010 --> 00:11:23,950]  Total operating expense in 2022 was 24.2 billion NT dollars with 8.2% growth worldwide.\n",
            "[00:11:24,880 --> 00:11:34,400]  Cost to income ratio slightly rose up to 44.4%. Let's take a look at the ASA quality.\n",
            "[00:11:35,200 --> 00:11:44,340]  Please turn to slide 24. Top chart shows the coverage ratio and NPO ratio. Coverage ratio\n",
            "[00:11:44,340 --> 00:11:59,700]  finished above 700%, marked at 709.2%. NPO ratio stayed at 0.18%. And bottom chart shows the\n",
            "[00:11:59,700 --> 00:12:06,610]  breakdown of NPO ratios. Both individual and mortgage ratios slid one bit respectively\n",
            "[00:12:07,170 --> 00:12:19,730]  to 0.11% and 0.07%. SME NPO ratio increased one bit to 0.29%. Large corporate NPO ratios slid one\n",
            "[00:12:19,730 --> 00:12:31,540]  bit to 0.07%. Please turn to slide 25. The pre-tax profits of overseas branches is over.\n",
            "[00:12:31,620 --> 00:12:42,110]  Total profits was marked at 37% at the end of 2022. As we mentioned prior quarter,\n",
            "[00:12:42,110 --> 00:12:48,990]  top left pie chart was skewed by one of Baydex from the Tokyo branch last quarter.\n",
            "[00:12:49,870 --> 00:13:01,570]  So that's why this graph you just take it as reference. Let's move to slide 26. Growth\n",
            "[00:13:01,570 --> 00:13:13,950]  card improved to 125.2%. Banks card and Tier 1 also climbed back a little bit to 13.8% and 11.8%\n",
            "[00:13:13,950 --> 00:13:20,780]  respectively. Okay, that's the presentation. I will turn back the microphone to Annie for\n",
            "[00:13:20,780 --> 00:13:38,350]  the Q&A section. Thank you, Keith. Now we will proceed the Q&A session. Okay, let's start with\n",
            "[00:13:38,350 --> 00:13:48,830]  the first question. The first question was raised by Ms. Huang of Rishen Touxin. Ms. Huang hopes to\n",
            "[00:13:48,830 --> 00:14:03,170]  know that our outlook of loan portfolio growth in 2023. So let's start with our outlook of\n",
            "[00:14:03,170 --> 00:14:17,900]  loan growth. First of all, the total loan growth, Annie. Okay, the prior quarter we mentioned that\n",
            "[00:14:18,700 --> 00:14:32,050]  would set up a more moderate loan growth like total loan growth at percent. But as most people\n",
            "[00:14:32,050 --> 00:14:43,630]  know that the government implemented the cooling initiatives that the so-called equalization of\n",
            "[00:14:43,630 --> 00:14:52,860]  land ownership rules that will damp some transaction in the new home sales especially\n",
            "[00:14:53,420 --> 00:15:06,800]  for those speculators in the real estate market. So we actually slightly revised down our mortgage\n",
            "[00:15:06,800 --> 00:15:22,340]  land even though this new initiative for all contracts but for the new buyers in real estate\n",
            "[00:15:22,340 --> 00:15:34,380]  market particularly for some corporate borrowers, it would definitely. So we revised down our\n",
            "[00:15:34,380 --> 00:15:42,580]  mortgage lending growth rate to a more normalized or organic pattern like 3%.\n",
            "[00:15:43,780 --> 00:15:53,870]  In terms of the corporate lending part, we noticed that the domestic momentum\n",
            "[00:15:54,830 --> 00:16:04,510]  for corporate borrowing particularly for the lift-up of border restriction and the booming\n",
            "[00:16:04,510 --> 00:16:15,200]  domestic private consumption would help particularly for some sectors like travel\n",
            "[00:16:16,560 --> 00:16:24,880]  sectors or retail sectors would really get the booster. So for SME lending, we would stay around\n",
            "[00:16:24,880 --> 00:16:41,010]  4% and the large corp also 4%. Even though the S-boking has received a hard blow that the\n",
            "[00:16:41,010 --> 00:16:50,820]  weakening orders with their borrowing power. So in that sense, for domestic markets, we\n",
            "[00:16:52,340 --> 00:17:00,740]  actually take a little bit conservative view on the property sectors especially for the mortgage\n",
            "[00:17:00,740 --> 00:17:09,140]  lending and for corporate lending would still remain resilient. Another bright side would be\n",
            "[00:17:09,140 --> 00:17:18,500]  for the FX loan. We witnessed that our overseas lending seems getting momentum or getting steam.\n",
            "[00:17:18,500 --> 00:17:27,950]  So that would help us to revise up our projection for the FX lending from original 7% to 8% up to\n",
            "[00:17:27,950 --> 00:17:41,100]  9.5% to 10%. Hopefully, we can catch up with the restored loan demand in the overseas market\n",
            "[00:17:41,100 --> 00:17:50,080]  situation. So overall, the loan growth projection this year should be somewhere around 4.5% just\n",
            "[00:17:50,080 --> 00:18:00,340]  slightly lower than our original projection. Only the mortgage lending revised down and the FX\n",
            "[00:18:00,340 --> 00:18:10,610]  lending revised so the total loan put would expand out still around 4.5% driven by still\n",
            "[00:18:10,610 --> 00:18:17,120]  resilient corporate borrowing and FX lending. Okay, thank you, Annie. I think I just need to\n",
            "[00:18:17,120 --> 00:18:27,380]  conclude the loan growth just in case that some of you may join us for later moment. All right,\n",
            "[00:18:27,780 --> 00:18:36,100]  let's just talk about our loan growth. We are kind of a little bit slightly revised down our\n",
            "[00:18:36,100 --> 00:18:50,110]  total loan growth target to 4% to 5% for the 2023. And apart from that, we also revised down\n",
            "[00:18:50,670 --> 00:18:59,230]  the mortgage lending to 3% a little bit from the previous 3% to 4% to 3%. And as for corporate\n",
            "[00:18:59,230 --> 00:19:08,430]  lending, we remain 4% forecast. Even for SME lending and for large corp, all are the same\n",
            "[00:19:08,430 --> 00:19:18,670]  for 4% growth. As for FX lending, we revised a little bit up from 7% to 9% this year just in\n",
            "[00:19:18,670 --> 00:19:30,030]  case that we saw the rebound from the European and American markets, especially American market\n",
            "[00:19:30,030 --> 00:19:41,060]  rebounded pretty light. We have had a very, very low base, a contracted base the past three years\n",
            "[00:19:41,140 --> 00:19:51,260]  of COVID period. That's the reason. And also, we kind of need to answer the next question,\n",
            "[00:19:51,260 --> 00:19:59,740]  which is from Mr. Jeremy Huang. Jeremy hopes to know what's the actual swap revenue in fiscal\n",
            "[00:20:00,060 --> 00:20:18,800]  2022 and our updated expectation of fiscal year 2023? Last year, we booked around 3.8 to 3.9\n",
            "[00:20:18,800 --> 00:20:31,280]  billion swap gains for the whole year. Most of these swap gains were booked in the final quarter\n",
            "[00:20:31,280 --> 00:20:49,710]  because until that time, the spread of last year, so the total swap gains had historical high of\n",
            "[00:20:49,710 --> 00:21:03,250]  8 billion. And for this year, we actually set up a more aggressive target to actually set up a\n",
            "[00:21:03,250 --> 00:21:12,240]  target up to 9 billion this year. Let me put it this way. In the final quarter of last year,\n",
            "[00:21:12,910 --> 00:21:19,710]  we booked around 1.2 billion swap gains per month. And in the first month of this year,\n",
            "[00:21:19,710 --> 00:21:30,910]  I mean in January this year, we actually booked around $1.7 billion swap gains in the first month\n",
            "[00:21:30,910 --> 00:21:37,470]  of this year. And when we calculate, when we roll out into the second month, that will be this month,\n",
            "[00:21:37,470 --> 00:21:44,850]  we still can book around 800 million swap gains. So in that sense, for this year,\n",
            "[00:21:44,850 --> 00:21:53,490]  we will project a more aggressive target to lock into the swap transaction that help to boost\n",
            "[00:21:54,850 --> 00:22:03,330]  the total top line. So for this year, it will be a much more aggressive target, which is more than\n",
            "[00:22:03,890 --> 00:22:10,370]  a triple the size of the gains that we have reached last year. So last year,\n",
            "[00:22:10,370 --> 00:22:17,570]  3.8 billion. This year, up to 9 billion total. Okay. Thank you, Annie. And I think we also\n",
            "[00:22:17,570 --> 00:22:30,400]  answered the question from Chen Yang from Yuanda. Also, she mentioned about can we offer the swap\n",
            "[00:22:30,400 --> 00:22:41,520]  gains target? Okay. We answered two people's same question. Also, we have a follow-up question,\n",
            "[00:22:42,160 --> 00:22:52,580]  which is from Jimmy Huang. Jimmy hopes to know what's the adjusted mean for 2022? I think we\n",
            "[00:22:52,580 --> 00:23:01,700]  answered 2022 for full year. And also, he hopes to know for single quarter, third quarter and\n",
            "[00:23:01,700 --> 00:23:10,640]  fourth quarter, including the swap revenue. Okay. Adjusted mean for the full year and also for the\n",
            "[00:23:10,640 --> 00:23:18,110]  single quarter. Do we have the single quarter? I think we can just add it up for the full year.\n",
            "[00:23:18,190 --> 00:23:34,780]  It's a rolling base. Last year, in the final quarter, 1.09 percent. Because this is a moving\n",
            "[00:23:34,780 --> 00:23:46,510]  average numbers. There was no breakdown into the single quarter numbers because we actually\n",
            "[00:23:46,510 --> 00:23:54,780]  roll out from the first month of every year. So last year, the adjusted mean reached 1.09 percent.\n",
            "[00:23:54,860 --> 00:24:03,020]  For this year, we would see more add up to another 10 basis points. So the final projection\n",
            "[00:24:03,020 --> 00:24:13,230]  for NIM for the adjusted basis would be 1.19 percent for the adjusted NIM for 2023. Okay.\n",
            "[00:24:13,870 --> 00:24:22,510]  And also, we have another question. It's from Mr. Eric Shi. Eric Shi hopes to know that\n",
            "[00:24:22,590 --> 00:24:45,650]  our 2023 fee revenue guidance remain similar around percent, mainly driven by the wealth\n",
            "[00:24:45,650 --> 00:25:00,300]  management and the service fee. In terms of loan-related fee, it would remain sluggish due\n",
            "[00:25:00,300 --> 00:25:09,280]  to this period. So fee revenue growth should be somewhere around 5 to 6 percent. And the\n",
            "[00:25:09,280 --> 00:25:16,080]  wealth management, we're targeting a 9 to 10 percent growth, driven by the increased sales\n",
            "[00:25:16,080 --> 00:25:24,580]  of mutual funds and overseas fixed income products. And the overseas fee would also\n",
            "[00:25:25,380 --> 00:25:32,500]  receive some boosted to growth by 11 to 12 percent based on an expanding loan portfolio\n",
            "[00:25:32,500 --> 00:25:42,100]  and others. Okay. And also, I think Eric also mentioned about the NIM. And I think we already\n",
            "[00:25:42,100 --> 00:25:50,940]  answered. And also, another follow-up question is about the credit. I think it's credit cost. Okay.\n",
            "[00:25:51,020 --> 00:26:00,130]  Is there any change on our credit cost guidance? For this year, as we have written down most of\n",
            "[00:26:00,130 --> 00:26:19,380]  the impairment losses, actually, we hike our credit charge last year that we basis point\n",
            "[00:26:19,380 --> 00:26:25,040]  net credit charge, credit cost last year. So this year, we would have a more moderate\n",
            "[00:26:26,030 --> 00:26:57,980]  provision target. Okay. 1.9 to 10. Okay. And also, we have another question. Okay. Let's\n",
            "[00:26:57,980 --> 00:27:06,140]  move back to – okay. We'll talk about dividend policy later. Okay, Eric. And let's talk about\n",
            "[00:27:06,140 --> 00:27:18,980]  our FX lending from Mr. Jimmy Huang. Jimmy hopes to know in which area are we more optimistic\n",
            "[00:27:18,980 --> 00:27:34,000]  in terms of FX lending. Basically, the U.S. market and also ASEAN countries would be two\n",
            "[00:27:34,000 --> 00:27:46,340]  regions would recover from there. So we actually see our overseas lending continue to become\n",
            "[00:27:46,340 --> 00:27:58,080]  more resilient. If you look back to the last year, actually, the overseas loan portfolio in the U.S.\n",
            "[00:27:58,080 --> 00:28:06,020]  market advanced by nearly 30 percent, 3-0. Of course, part of the reason would be the low base.\n",
            "[00:28:06,100 --> 00:28:13,730]  However, because the so-called investing U.S. is pretty much like a norm currently. So the\n",
            "[00:28:15,170 --> 00:28:22,610]  relocation of the supply chain would help this loan demand to boost our\n",
            "[00:28:24,290 --> 00:28:32,480]  loan portfolio growth in the U.S. market. And when we talked about the ASEAN expansion,\n",
            "[00:28:33,440 --> 00:28:42,880]  ASEAN also represent a high base area. However, this area will continue to get some lift\n",
            "[00:28:43,920 --> 00:28:52,960]  thanks to the supply chain reorg. So this will be our target market to grow our loan base.\n",
            "[00:28:52,960 --> 00:28:59,760]  So I must say these two areas will be our major growth driver in the coming years, U.S.,\n",
            "[00:28:59,760 --> 00:29:09,060]  North America, and ASEAN countries. Okay. And also we have another question\n",
            "[00:29:10,260 --> 00:29:22,500]  is from Mr. Lucas Wang of Morgan Stanley. Lucas hopes to know, just name, we already answering\n",
            "[00:29:22,500 --> 00:29:32,500]  also. He has a question about our LDR rate and CASA rate. He hopes to know what's the reason\n",
            "[00:29:33,300 --> 00:29:51,100]  that 2022's LDR rate and CASA rate both declined. In fact, when the U.S. rate, anti-dollars rate,\n",
            "[00:29:59,140 --> 00:30:26,830]  most of the lower cost, so that would show that the higher anti-dollars LDR rate, 80%,\n",
            "[00:30:27,710 --> 00:30:39,600]  yeah, more than 80% for U.S. dollars, LDR just 11%. That would be some arbitrage between the\n",
            "[00:30:39,600 --> 00:30:49,060]  rate gap between. And we actually project this phenomenon will sustain because the U.S. rate\n",
            "[00:30:49,060 --> 00:30:57,420]  remain in upward trend and anti-dollars rate will stay stable here. So this year,\n",
            "[00:30:58,140 --> 00:31:06,530]  the whole momentum or the trend will stay the same. And talking about the CASA rate,\n",
            "[00:31:06,530 --> 00:31:17,710]  actually I highlight that the peak of the CASA rate has already demonstrated that\n",
            "[00:31:18,670 --> 00:31:33,360]  as long as the rate move higher than the decline, as long as the deposit rate remain at the high\n",
            "[00:31:33,360 --> 00:31:42,740]  end, these two phenomenon including LDR and the CASA rate would follow the path earlier.\n",
            "[00:31:44,690 --> 00:31:54,930]  Okay. And also we have another question is also from Lucas. He's wondering that if our\n",
            "[00:31:54,930 --> 00:32:02,750]  other liabilities in balance sheet is still maintaining positive for 2022?\n",
            "[00:32:06,140 --> 00:32:16,690]  We don't have significant losses on valuation of debt. Plus we have valuation gain on our...\n",
            "[00:32:17,330 --> 00:32:32,000]  So I think I kept wondering if our OCI remain positive after the volatility of capital market.\n",
            "[00:32:32,000 --> 00:32:44,240]  Well, our OCI remain negative but positive gains on capital.\n",
            "[00:32:44,240 --> 00:32:52,270]  So I think his question is after the deduction of this negative OCI...\n",
            "[00:32:52,830 --> 00:32:55,790]  Yeah. Still remain positive.\n",
            "[00:32:55,790 --> 00:32:56,350]  Okay.\n",
            "[00:32:56,350 --> 00:32:58,510]  About 4 billion.\n",
            "[00:32:59,070 --> 00:33:06,060]  All right. Okay. So still remain positive after the deduction of...\n",
            "[00:33:06,060 --> 00:33:06,700]  Yeah.\n",
            "[00:33:06,700 --> 00:33:07,180]  Okay.\n",
            "[00:33:07,180 --> 00:33:12,300]  So there's no constraint that we cannot deliver dividend payout.\n",
            "[00:33:13,060 --> 00:33:22,580]  All right. Okay. I think we have had for Lucas. And also as I say, I will just keep the dividend\n",
            "[00:33:22,580 --> 00:33:33,140]  question for the last part. And what's the CI ratio going up reason for the 2022?\n",
            "[00:33:33,780 --> 00:33:43,920]  Last year mainly driven by rising both net interest income and the swap gains.\n",
            "[00:33:48,460 --> 00:34:04,060]  So the cost remain stable. So that's because more top line then.\n",
            "[00:34:04,060 --> 00:34:16,210]  All right. Okay. And also let's talk about another question which is from Ms. Tina Chen.\n",
            "[00:34:16,930 --> 00:34:27,150]  Tina hopes to know our OPRs exposure in case the single case exposure amount.\n",
            "[00:34:28,030 --> 00:34:39,330]  And what's the provisioning percentage at the end of 2022? And also another question is\n",
            "[00:34:40,290 --> 00:34:49,020]  are we going to increase the provisioning for this single case in 2023? Three questions.\n",
            "[00:34:49,020 --> 00:34:58,740]  Okay. The exposure that we own for OPR is around 25 million euro.\n",
            "[00:34:58,740 --> 00:35:00,740]  25 million euro.\n",
            "[00:35:01,620 --> 00:35:02,340]  Dollars.\n",
            "[00:35:02,420 --> 00:35:11,170]  Up to end of February this month, we plan to set aside around\n",
            "[00:35:12,130 --> 00:35:15,170]  7 million euro. So that will be up to 28%.\n",
            "[00:35:16,590 --> 00:35:26,350]  For 28% against this exposure until February of 2023.\n",
            "[00:35:27,070 --> 00:35:28,270]  And for...\n",
            "[00:35:28,270 --> 00:35:35,390]  Whether we would raise up the provision was pretty much a subject to the results\n",
            "[00:35:35,390 --> 00:35:44,770]  that the borrower negotiate how they would restructure the... Yeah. Because this is a\n",
            "[00:35:46,130 --> 00:35:53,650]  syndication loan. So we have to follow the conclusion, the consortium.\n",
            "[00:35:54,450 --> 00:35:55,170]  Okay.\n",
            "[00:35:55,170 --> 00:36:09,300]  But 28% provision looks fine for the moment. And we would be able to set aside more provisioning\n",
            "[00:36:09,300 --> 00:36:20,210]  if the restructuring plan remain more clear and cut. Then we would somewhat haircut\n",
            "[00:36:20,770 --> 00:36:23,970]  or if this provision is sufficient. It's still\n",
            "[00:36:25,490 --> 00:36:29,890]  not so clear. So we still have to wait until the final decision.\n",
            "[00:36:30,690 --> 00:36:31,490]  Okay. Yeah.\n",
            "[00:36:34,290 --> 00:36:43,970]  Okay. Let's talk about another question from Ms. Chen Yang Chu of Yuanda. She hopes to know what's\n",
            "[00:36:44,050 --> 00:36:57,060]  the top three of overseas branches on profit earnings? Which country? And what are their\n",
            "[00:36:57,060 --> 00:37:05,200]  growth rate? The top one, top two, top three. Okay. Well, last year, the top one would be Hong\n",
            "[00:37:05,200 --> 00:37:14,100]  Kong. So that top one is Hong Kong branch. Yeah. The second two would be Cambodia.\n",
            "[00:37:14,660 --> 00:37:23,070]  The second one is Cambodia. And the third place was New York. The third one is New York. And\n",
            "[00:37:23,070 --> 00:37:29,550]  I must be quite frankly that this was mainly because the very low base period due to the COVID.\n",
            "[00:37:30,460 --> 00:37:38,540]  Okay. Yeah. Their growth rate is quite significant, but a little bit skewed because\n",
            "[00:37:39,500 --> 00:37:50,460]  very low base impact for these single branches. I think it's still kind of not so fair to treat\n",
            "[00:37:50,460 --> 00:38:02,380]  them at the same level because they have different COVID impact in different timing of last year.\n",
            "[00:38:02,380 --> 00:38:13,940]  So I think we should basically treat them as a whole. That would be more fair.\n",
            "[00:38:13,940 --> 00:38:22,660]  Yeah. But in the past, actually, these three branches represent the core business in our\n",
            "[00:38:22,660 --> 00:38:30,100]  overseas model because Hong Kong represent the greater China business. And Cambodia will be the\n",
            "[00:38:30,740 --> 00:38:36,580]  core for our ASEAN markets. And the New York definitely would be the US\n",
            "[00:38:36,580 --> 00:38:44,180]  market. So these three would be pretty much a proxy model of our overseas business.\n",
            "[00:38:44,180 --> 00:38:49,390]  And also pretty diversified. Yeah. Yeah. Yeah. Yeah.\n",
            "[00:38:49,390 --> 00:38:53,150]  Diversified. One in Asia. Yeah. Yeah. Yeah.\n",
            "[00:38:53,150 --> 00:38:58,350]  Greater China and Asian. And also the third one is in US.\n",
            "[00:38:58,350 --> 00:38:59,710]  Yeah. Yeah. Finish. All right. Okay.\n",
            "[00:39:00,670 --> 00:39:07,310]  Except for Cambodia, Hong Kong and the New York used to be the champion and the second place,\n",
            "[00:39:07,310 --> 00:39:13,950]  right? And then Cambodia represent the Taiwan business new hub in ASEAN countries.\n",
            "[00:39:16,480 --> 00:39:25,760]  Okay. And also we have another question from Ms. Tina Chen. Tina just mentioned that\n",
            "[00:39:26,720 --> 00:39:35,520]  any you mentioned about the credit charge, credit costs will be lower in 2023 because you have\n",
            "[00:39:35,520 --> 00:39:47,520]  higher recovery forecast. So may I know which case that you have that chance to get recovery?\n",
            "[00:39:48,560 --> 00:39:58,860]  What's your recovery amount? One prominent case is we have\n",
            "[00:39:59,740 --> 00:40:12,370]  Qingfu shipping case. All right. We have another post the collateral. And another one would be\n",
            "[00:40:12,370 --> 00:40:26,000]  another steel company, sorry, a base metal company. We recover from the collateral up to\n",
            "[00:40:28,560 --> 00:40:34,460]  more than 1.5 billion something because that collateral is quite. These two would\n",
            "[00:40:34,460 --> 00:40:48,480]  dominate. And don't forget that out of the portfolio that we have more than 50 to 60%\n",
            "[00:40:49,440 --> 00:41:10,800]  can always. Okay. Thank you. And let's go back to the final question. The first question is about\n",
            "[00:41:10,880 --> 00:41:22,220]  our dividend policy. Eric and also Lucas and also many people here. Will it be better than\n",
            "[00:41:23,490 --> 00:41:34,380]  previous year in cash dividend? Good question. We are still study how much we're going to\n",
            "[00:41:34,380 --> 00:41:47,550]  distribute this year. But the thing is that because we are now approaching our criteria\n",
            "[00:41:47,550 --> 00:41:56,020]  set up by the FSA. So after we expanded our loan book quite aggressively last year,\n",
            "[00:41:56,020 --> 00:42:21,410]  that pretty much eaten up also because of the erode. In that sense, I may not be able to be\n",
            "[00:42:21,410 --> 00:42:42,930]  so generous as before. But I must say that we will also look into the interest of shareholders\n",
            "[00:42:42,930 --> 00:42:54,300]  or investors. So we would try to maintain a more decent dividend policy. Set up a target that the\n",
            "[00:42:54,300 --> 00:43:01,440]  payout ratio will be around. Last time I would say that 60%. But now I must say that 50 to 60%.\n",
            "[00:43:02,240 --> 00:43:16,690]  And this will be this year. But a very generous dividend payout for cash now because we would\n",
            "[00:43:16,690 --> 00:43:29,650]  see that if we're going to further expand our required to reach some earnings with so that we\n",
            "[00:43:29,650 --> 00:43:43,870]  would try to avoid any potential rights issue in. Okay. So the follow up question is, is there any\n",
            "[00:43:43,870 --> 00:43:53,920]  rights issue plan in 2023 or 2024? This question is pretty much linked to how much we're going to\n",
            "[00:43:53,920 --> 00:44:02,160]  deliver, distribute our dividend this year. If we are able to adjust our dividend payout more\n",
            "[00:44:02,160 --> 00:44:09,040]  flexible, then the rights issue may not be so imminent, at least for this year. It's not in\n",
            "[00:44:09,040 --> 00:44:18,370]  the pipeline anyway. So I mean this correlation between how much we distribute our cash dividend\n",
            "[00:44:18,370 --> 00:44:31,250]  and would that lead to follow up rights issue. I must clear that we would see which would be the\n",
            "[00:44:31,250 --> 00:44:41,890]  most appropriate plan to actually secure the long term return of our shareholders and at the same\n",
            "[00:44:41,890 --> 00:44:56,270]  time not to overly dilute the shareholders value in the market. Okay. And I think we have another\n",
            "[00:44:56,270 --> 00:45:11,150]  question coming in from Mr. Liu. Okay. Mr. or Ms. Liu hopes to know what's our future strategy about\n",
            "[00:45:11,150 --> 00:45:23,360]  wealth management business, especially for mortgage buyers, mortgage borrowers. His opinion is that\n",
            "[00:45:23,920 --> 00:45:36,990]  as the rate is high now, so how do we promote our wealth management products to these huge base\n",
            "[00:45:37,550 --> 00:45:49,070]  mortgage clients? So as we try to prolong the product duration and how do we develop the wealth\n",
            "[00:45:49,070 --> 00:45:58,510]  management business? I think we just need to, I think his question is how do we expand our wealth\n",
            "[00:45:58,510 --> 00:46:14,240]  management business in 2023? I think your question, try to link the wealth management business is a\n",
            "[00:46:14,240 --> 00:46:27,460]  bit, I mean this is, this may be a model that most of our peers did, that they tried to penetrate into\n",
            "[00:46:27,460 --> 00:46:37,780]  the mortgage borrower and then they will lift up the LTV and then to squeeze some money out of this\n",
            "[00:46:37,780 --> 00:46:49,100]  mortgage borrower and then encourage the mortgage borrower to invest. Is that what you mean? I think\n",
            "[00:46:49,100 --> 00:46:57,820]  so. I think so. Okay. Well, this is quite a common model that most of our peers would pitch like this.\n",
            "[00:46:58,460 --> 00:47:09,100]  But the truth is that now that the cost of mortgage actually went up. So if you like to lure your\n",
            "[00:47:09,100 --> 00:47:15,580]  mortgage borrower to squeeze some money that they can invest into the wealth management products,\n",
            "[00:47:16,320 --> 00:47:24,640]  one criteria must meet would be the product must offer a higher return than their mortgage cost,\n",
            "[00:47:24,640 --> 00:47:36,990]  right? So currently clients will be part of our target audience to further develop the wealth\n",
            "[00:47:36,990 --> 00:47:46,590]  management business. But we are now more interested into the high net worth customers and also let's\n",
            "[00:47:46,590 --> 00:47:58,780]  see some repatriated capital from overseas talent businesses. So I must add our model is slightly\n",
            "[00:47:58,780 --> 00:48:08,270]  different from the so-called to capture this mortgage borrower to squeeze the money out of\n",
            "[00:48:08,270 --> 00:48:16,830]  their mortgage borrowing because now their cost is higher. So we would see that our wealth management\n",
            "[00:48:16,830 --> 00:48:26,300]  model is more linked to the so-called high net worth and also some repatriated capital and also\n",
            "[00:48:26,300 --> 00:48:37,140]  the really retail clients are also our target audience. So the mortgage borrower may be just\n",
            "[00:48:37,140 --> 00:48:45,440]  part of the audience but not the main source of our wealth management business target.\n",
            "[00:48:47,180 --> 00:48:56,540]  Okay, thank you. And we have another question is about our swap gains. Can we provide\n",
            "[00:48:58,940 --> 00:49:14,980]  him the swap gains portfolio amount? So far, no, no, no, no. But I still have the swap gains.\n",
            "[00:49:14,980 --> 00:49:25,380]  But we already answered the swap gains. I must highlight that if the US rates continue to\n",
            "[00:49:26,420 --> 00:49:33,260]  move higher, maybe the swap gains would be better than that because the rate gap.\n",
            "[00:49:35,300 --> 00:49:46,100]  Okay. And we have the last question here. It's about our post-COVID, the China exposure strategy.\n",
            "[00:49:46,900 --> 00:49:54,180]  What's our post-COVID China exposure strategy given that the China has lifted all the COVID\n",
            "[00:49:54,180 --> 00:50:03,730]  restrictions after the Chinese Lunar New Year? Any? Actually, when you look back to our\n",
            "[00:50:05,280 --> 00:50:14,990]  China business, most of our China branches all booked profits last year, including Shanghai,\n",
            "[00:50:16,220 --> 00:50:29,980]  Hengdu, Xiamen, and not to mention Hong Kong. So it implies that the business opportunity\n",
            "[00:50:30,700 --> 00:50:40,690]  in the great China will gradually surface. However, we would take a more, I mean,\n",
            "[00:50:41,740 --> 00:50:55,500]  prudent manners to expand that the tension between the cross-straits still persists.\n",
            "[00:50:55,500 --> 00:51:03,420]  So we would look into some business opportunity like with the Taiwan business operated in both\n",
            "[00:51:03,420 --> 00:51:12,240]  sides and particularly focused on the supply chain business. And that would be our major\n",
            "[00:51:12,240 --> 00:51:21,440]  strategy to gradually catch up the greater China momentum, not a very proactive,\n",
            "[00:51:21,440 --> 00:51:29,840]  but a more prudent and conservative expansion plan to do the business in the greater China region.\n",
            "[00:51:31,970 --> 00:51:37,410]  Okay. Thank you, Annie. And I think we have answered all of the questions.\n",
            "[00:51:38,050 --> 00:51:45,810]  And I hope that you enjoyed today's Q&A. And if you have more questions after today's conference,\n",
            "[00:51:45,810 --> 00:51:54,530]  you can still email us after the replay or something, or you just got another\n",
            "[00:51:55,410 --> 00:52:01,570]  question on your head and you can also email us. So no need to worry. And I will\n",
            "[00:52:01,570 --> 00:52:09,840]  just turn over to Annie to have a conclusion. Okay. Maybe I can add one more thing.\n",
            "[00:52:10,400 --> 00:52:20,340]  Okay. Well, I guess most of the investors in the market will get a hit from dividend payout\n",
            "[00:52:20,340 --> 00:52:26,820]  from our peers in some bank. And I must say that our policy for First Financial would be\n",
            "[00:52:26,820 --> 00:52:35,940]  stabilize or smooth out our dividend payout, but not to have a very volatile dividend policy.\n",
            "[00:52:35,940 --> 00:52:45,060]  So that's why we would balance the whole investment return for our shareholders so that\n",
            "[00:52:45,060 --> 00:52:53,380]  they can have a more predictable dividend gains from their investment in the First Financial.\n",
            "[00:52:53,380 --> 00:52:59,940]  So management team would see what would be the most appropriate strategy to balance between\n",
            "[00:53:01,540 --> 00:53:11,860]  our dividend payout and also is there any possibility that we can make this dividend\n",
            "[00:53:11,860 --> 00:53:18,580]  payout more smoothly that people can actually figure out how much they will get the return\n",
            "[00:53:18,580 --> 00:53:25,540]  from their investment from First Financial portfolio because this would be our norm to\n",
            "[00:53:25,540 --> 00:53:36,370]  have a more smooth dividend policy. Okay. Okay. Thank you, everyone. I hope you enjoyed today's\n",
            "[00:53:36,370 --> 00:53:40,530]  meeting and I'll see you next quarter. Bye-bye. Bye-bye.\n"
          ]
        },
        {
          "output_type": "display_data",
          "data": {
            "text/plain": [
              "<IPython.core.display.Markdown object>"
            ],
            "text/markdown": "**Transcript file created: /content/drive/My Drive/羅浚/done_txt/2892第一金_2022Q4法人說明會(英)_20230224.txt**"
          },
          "metadata": {}
        },
        {
          "output_type": "display_data",
          "data": {
            "text/plain": [
              "<IPython.core.display.Markdown object>"
            ],
            "text/markdown": "Detected language 'en' with probability 0.9677734375"
          },
          "metadata": {}
        },
        {
          "output_type": "stream",
          "name": "stdout",
          "text": [
            "[00:00:00,820 --> 00:00:04,820]  Thank you for waiting. The meeting will begin shortly.\n",
            "[00:00:07,630 --> 00:00:15,260]  Good afternoon, everyone. I'm Casey. Welcome to join us for First Financial Holding third quarter\n",
            "[00:00:15,260 --> 00:00:23,580]  2022 webcast investor conference. Before we proceed the presentation, I'd like to disclose\n",
            "[00:00:23,580 --> 00:00:31,380]  the following information. Starting from December 2015, in order to improve corporate governance\n",
            "[00:00:32,100 --> 00:00:37,940]  First Financial Holding has set out ethical corporate management best practice principles\n",
            "[00:00:37,940 --> 00:00:44,660]  and conducting procedures and guidelines. For more information, please refer to our website\n",
            "[00:00:44,660 --> 00:00:53,570]  www.ffhec.com.tw. Okay, let's start with our performance presentation.\n",
            "[00:00:55,490 --> 00:01:02,210]  Presentation material can be downloaded from our website and one year replay will be available\n",
            "[00:01:02,210 --> 00:01:11,100]  after today's conference. After the presentation, we'll invite Ms. Annie Lee, our IR head and EVP\n",
            "[00:01:11,100 --> 00:01:19,020]  to proceed the Q&A session and talk about 2023 outlook as well. You can raise your questions\n",
            "[00:01:19,020 --> 00:01:25,340]  by typing at the bottom of the webcast right corner window. Either in English or Chinese\n",
            "[00:01:25,340 --> 00:01:33,420]  is fine with us. Now I'd like to turn over to Mr. Keith Kerr to begin today's presentation. Keith.\n",
            "[00:01:33,420 --> 00:01:42,240]  Okay, thank you, Casey. Okay, please turn to slide five. Here is the wrap up of the group's\n",
            "[00:01:42,240 --> 00:01:50,660]  performance in first three quarters 2022. The group's cumulative earnings reached $16.4 billion\n",
            "[00:01:51,460 --> 00:01:56,450]  in first three quarters, finally catching up to the same period results last year.\n",
            "[00:01:57,580 --> 00:02:05,920]  And the bank unit's performance was the key. Banks' resilient loan growth boosted both net\n",
            "[00:02:05,920 --> 00:02:13,840]  interest income and loan-related fee revenue. On the other hand, the widening interest gap between\n",
            "[00:02:13,840 --> 00:02:25,260]  US dollar and NT dollar led the funding shift and helped to increase the FX swap gains. Relative to\n",
            "[00:02:25,260 --> 00:02:31,580]  good results from bank unit, non-banks were kind of fading away this year.\n",
            "[00:02:32,300 --> 00:02:40,420]  Securities and insurance were both impacted by the turbulent markets, especially when investors\n",
            "[00:02:40,420 --> 00:02:50,800]  prefer to seek after higher yield fixed income products due to rate hikes. It is expected to\n",
            "[00:02:50,800 --> 00:02:59,230]  see some funding shifts. Overall, to say, we look forward to a challenging year in 2023.\n",
            "[00:03:00,110 --> 00:03:10,080]  It shall take time to be back to normal post-COVID. Groups shall stay resilient and focus\n",
            "[00:03:10,080 --> 00:03:18,610]  on core business to neutralize risk management and business growth. Okay, let's move to financial\n",
            "[00:03:18,610 --> 00:03:27,300]  highlights. Turn to slide 7. This slide shows group's key figures. Group's consolidated net\n",
            "[00:03:27,300 --> 00:03:35,520]  income of first three quarters, $16.5 billion, which was flattish comparing with the same period\n",
            "[00:03:35,520 --> 00:03:44,960]  results last year. EPS, ROE, and ROA still fell behind. However, the gap was narrowed.\n",
            "[00:03:45,950 --> 00:03:54,270]  Please take other figures as reference. Let's move to slide 8. This slide provides the breakdown of\n",
            "[00:03:54,270 --> 00:04:06,540]  group's net income. Total net revenue improved 10% to reach $52.2 billion. Even with higher\n",
            "[00:04:06,540 --> 00:04:13,500]  credit charge and insurance reserves, the total net income still ended at $16.4 billion.\n",
            "[00:04:14,460 --> 00:04:23,230]  Slide 9 displays the performance of major subsidiaries. Group's net income was mainly\n",
            "[00:04:23,230 --> 00:04:29,790]  supported by banks' outstanding results to offset the backward performances from other major\n",
            "[00:04:29,790 --> 00:04:41,620]  subsidiaries. Let's move to next part, operating results. Please turn to slide 11. This slide\n",
            "[00:04:41,620 --> 00:04:50,780]  shows group and bank's net income and ROAE. Group's net income was $16.4 billion with\n",
            "[00:04:50,780 --> 00:05:02,130]  9.9% ROAE, while bank's net income also came to $16 billion with 9.5% ROAE.\n",
            "[00:05:03,950 --> 00:05:13,330]  Please turn to slide 12. This slide provides the breakdown of bank's earnings structure.\n",
            "[00:05:13,330 --> 00:05:22,620]  Cumulative net revenue of first three quarters was $39.5 billion, 12.4% gross YOY.\n",
            "[00:05:24,110 --> 00:05:33,940]  As of the breakdown, net interest income had 13.9%, fee income grew by 5.4%.\n",
            "[00:05:35,090 --> 00:05:42,260]  Gains on investment had a tremendous improvement in third quarter, which helped to turn the YOY\n",
            "[00:05:42,260 --> 00:05:52,300]  decline into 14.5% growth. Partial reason was coming from the swap gains due to the enlarged\n",
            "[00:05:53,300 --> 00:06:02,960]  interest gap between U.S. and NT dollar. Okay, please move to slide 13. This slide presents the\n",
            "[00:06:02,960 --> 00:06:13,010]  loan book mix. Total loan book reached $2.26 trillion NT dollars with 11.8% gross YOY.\n",
            "[00:06:14,980 --> 00:06:22,740]  Large corporate loan led the growth with 33% increase. Among other categories,\n",
            "[00:06:23,300 --> 00:06:34,820]  mortgage grew by 10.9%. SME had 6.7% growth. FX loan also increased 7.8%.\n",
            "[00:06:34,820 --> 00:06:43,170]  And slide 14 shows the QOQ trend. Again, large corporate loan had 10.7% growth QOQ,\n",
            "[00:06:43,810 --> 00:06:51,810]  which led the growth among other categories. Please take other figures.\n",
            "[00:06:51,810 --> 00:07:03,380]  Please turn to slide 15. This slide shows the trend of LDR spread. LDR continued to improve to\n",
            "[00:07:03,380 --> 00:07:15,310]  73%. NT dollar LDR reached 84.3%, while FX LDR was also up a little bit to 47.7%.\n",
            "[00:07:17,520 --> 00:07:29,120]  Long-term deposit spread improved to 1.46%. However, NIM dropped to 1.02%. This is\n",
            "[00:07:29,760 --> 00:07:40,930]  partially because of the funding shift we just mentioned earlier. Please turn to slide 16. This\n",
            "[00:07:40,930 --> 00:07:49,490]  slide shows QOQ trend of NT dollar and FX spread. NT dollar spread continued to improve another\n",
            "[00:07:49,490 --> 00:08:04,960]  7 bps to 1.38%. FX spread had a huge improvement of 28 bps increase to reach 2.51% now. Please\n",
            "[00:08:04,960 --> 00:08:16,620]  turn to slide 17. This slide shows the deposit mix. Total deposit was up 9.7% YOY, which was\n",
            "[00:08:16,620 --> 00:08:27,920]  mainly driven by FX deposit. It has 24% growth. And NT dollar deposit also had 4.2% increase\n",
            "[00:08:28,560 --> 00:08:38,430]  at the meantime. On the right-hand side, it shows the CASA rate slightly dropped to 70.3% now.\n",
            "[00:08:39,950 --> 00:08:47,280]  Okay, please turn to slide 18. This slide shows the loan book concentration of major\n",
            "[00:08:47,280 --> 00:08:58,670]  exposures. Please take it as a reference. Let's move to slide 19. This slide shows the mortgage\n",
            "[00:08:58,670 --> 00:09:07,300]  book yield, LTV ratios, and the new mortgage lending trend. Mortgage yield is no exception\n",
            "[00:09:07,300 --> 00:09:18,510]  to take the rate hike trend to rise up. It's already 1.84% now. New mortgage LTV ratio was\n",
            "[00:09:18,510 --> 00:09:32,380]  locked at 64.5%. Our average mortgage LTV ratio edged up to 46.5%. Bottom bar chart presents\n",
            "[00:09:32,380 --> 00:09:40,160]  monthly trend. Although YOY mortgage loan book was still quite solid, we do see some declines\n",
            "[00:09:40,160 --> 00:09:52,160]  of new mortgage among QOQ. Please turn to slide 20. Let's take a look of fee revenue. Cumulative\n",
            "[00:09:53,120 --> 00:10:02,080]  net fee income of first three quarters reached 6.1 billion NT dollars, which was 5.4% growth\n",
            "[00:10:02,080 --> 00:10:10,420]  YOY. As of the breakdown, wealth management fee income in third quarter was kind of weak,\n",
            "[00:10:10,420 --> 00:10:20,850]  to turn cumulative income 0.7% decrease YOY. Loan-related fee income was still solid,\n",
            "[00:10:20,850 --> 00:10:33,470]  with 22.4% growth YOY. Please turn to slide 21 for the QOQ trend. On this slide, it shows total\n",
            "[00:10:33,470 --> 00:10:39,810]  fee income was trending down. As of the wealth management, both bank insurance and mutual fund\n",
            "[00:10:39,810 --> 00:10:50,860]  fee income were slowed down and showed QOQ decline. Please turn to slide 22 for the operating expense.\n",
            "[00:10:50,860 --> 00:10:59,500]  Total operating expense in first three quarters was 17.3 billion NT dollars, with 8.6% growth YOY.\n",
            "[00:11:00,900 --> 00:11:07,940]  Cost-to-income ratio continued to drop to 43.8%. Please take it as reference.\n",
            "[00:11:10,210 --> 00:11:20,510]  Okay, let's move to slide 23 for the SA quality. Top chart shows coverage ratio and NPO ratio.\n",
            "[00:11:21,310 --> 00:11:31,970]  Coverage ratio moved up to 684%, while NPO ratio dipped another one bit to 0.18%.\n",
            "[00:11:33,600 --> 00:11:42,370]  Bottom chart shows the breakdown of NPO ratios. Both individual and mortgage NPO ratios lead to\n",
            "[00:11:42,930 --> 00:11:56,510]  0.12% and 0.08% respectively. SME NPO ratio dropped two bits to 0.28%, while large corporate NPO ratio\n",
            "[00:11:56,510 --> 00:12:08,910]  stayed at 0.08%. Please turn to slide 24 for overseas profits. The pre-tax profits of overseas\n",
            "[00:12:08,990 --> 00:12:21,200]  branches over total profits improved to 37.7%. Suffered by one of new influx from Tokyo branch\n",
            "[00:12:21,200 --> 00:12:31,520]  last quarter, the top left pie chart was still distorted. Please take it as reference.\n",
            "[00:12:33,660 --> 00:12:44,670]  Please turn to slide 25. Growth cost lead to 123.8%. Banks car and tier one also dipped a\n",
            "[00:12:44,670 --> 00:12:54,980]  little bit to 13.6% and 11.6% respectively. Okay, that's the presentation today. I will\n",
            "[00:12:54,980 --> 00:13:00,100]  turn back the microphone to Annie for the conclusions and the Q&A session.\n",
            "[00:13:00,100 --> 00:13:16,880]  Okay, thank you, Keith. Before we proceed the Q&A session, we'd like to talk about the third\n",
            "[00:13:16,880 --> 00:13:27,010]  quarter's performance first. Then we will discuss more about 2023 guidance. So, we'll start with\n",
            "[00:13:27,010 --> 00:13:36,080]  the question from Ms. Peggy Shi. Peggy hopes to know that, well, let's talk about the third\n",
            "[00:13:36,080 --> 00:13:48,370]  quarter's provisioning. It looks like the reason behind provisioning about the syndication loan,\n",
            "[00:13:48,370 --> 00:13:55,890]  single case, what about the provisioning plan?\n",
            "[00:13:55,890 --> 00:14:31,180]  For our NPO provisioning case, a lending in our London branch. Sorry, that is for Tokyo,\n",
            "[00:14:31,180 --> 00:14:48,700]  sorry. That auto parts company that we have already provided more than half of the\n",
            "[00:14:49,900 --> 00:15:02,030]  exposure remaining, which represents the haircut of nearly 44%. And the remaining portion\n",
            "[00:15:02,030 --> 00:15:11,970]  will still need to be further provided due to the secondary market price continue to fall down.\n",
            "[00:15:11,970 --> 00:15:27,780]  So, we gradually charge off the exposure for this Tokyo auto parts syndication lending.\n",
            "[00:15:28,140 --> 00:15:47,180]  Up to end of this year, there will be more office. So, that would represent nearly completely\n",
            "[00:15:47,180 --> 00:16:01,420]  charge off the losses incurred from lending. So, the major source of NPO Tokyo office should be\n",
            "[00:16:03,230 --> 00:16:12,800]  nearly done. And as for the increasing of the other provisioning was mainly driven by\n",
            "[00:16:13,920 --> 00:16:22,990]  a ballooning lending portfolio that we would have to provide at least 1% general provision.\n",
            "[00:16:22,990 --> 00:16:30,510]  So, these two factors affect our growth provisioning for the third quarter.\n",
            "[00:16:34,190 --> 00:16:45,340]  Another reason that the net credit cost for this looks slightly higher than our\n",
            "[00:16:46,020 --> 00:17:00,220]  original projection was there was some write back source from the actually delayed\n",
            "[00:17:00,220 --> 00:17:07,380]  their collection and it will be further postponed until early next year. So, the actual\n",
            "[00:17:09,570 --> 00:17:20,850]  recovery disposition of our collateral would be less than what we expected earlier this year.\n",
            "[00:17:20,930 --> 00:17:30,300]  So, all these factors influence our original projection that the net credit cost actually\n",
            "[00:17:30,300 --> 00:17:36,400]  move higher up to nearly 22 bits for this year as a whole.\n",
            "[00:17:39,200 --> 00:17:46,400]  Okay. Thank you, Annie. And we have another follow-up question is about the currency swap.\n",
            "[00:17:47,120 --> 00:17:54,670]  What's the currency swap contribution in the third quarter? And what's the estimated\n",
            "[00:17:55,950 --> 00:18:04,690]  the four years contribution of currency swap? In fact, the currency, I mean the swap gains\n",
            "[00:18:04,690 --> 00:18:14,750]  gradually translate into our treasury business throughout the second and third. So,\n",
            "[00:18:15,630 --> 00:18:26,260]  based on our current interest rate gap projection for this year as a whole that the swap gains\n",
            "[00:18:26,260 --> 00:18:39,230]  would be as high as nearly 2.3 billion to 2.5 billion. 2.3 to 2.5 for fiscal year 2022. Yes,\n",
            "[00:18:39,310 --> 00:18:53,980]  and it still continues to expand. LTR for the FX lending is getting lower. However,\n",
            "[00:18:53,980 --> 00:19:11,520]  the extra liquidity with the flow to the swap related momentum also generated decent\n",
            "[00:19:11,520 --> 00:19:25,600]  swap profits. And we would see this gains would get a further boost that will become even more\n",
            "[00:19:26,560 --> 00:19:38,860]  exaggerated that we will have to translate into the actual net interest income later on. So,\n",
            "[00:19:38,860 --> 00:19:45,820]  the swap gains for this year will be somewhere around 2.3 to 2.5 billion for this year.\n",
            "[00:19:45,900 --> 00:19:52,290]  And the next year will be even much more than that. All right. Okay. Let's still focus on the\n",
            "[00:19:52,290 --> 00:20:00,740]  third quarter performance. What about the NIM? It seems that the NIM has been decreasing starting\n",
            "[00:20:00,740 --> 00:20:08,500]  from the third quarter. If we add back the currency swap, what's the adjusted NIM for\n",
            "[00:20:09,460 --> 00:20:18,480]  for the accumulated third quarter? Well, the actual accounting for swap gains will be booked\n",
            "[00:20:18,480 --> 00:20:32,320]  as a swap gains into the account of Treasury. However, the net interest income, that's why\n",
            "[00:20:34,220 --> 00:20:41,230]  the actual net interest income was a bit distorted because the actual gains\n",
            "[00:20:41,310 --> 00:20:51,010]  was booked in another. It will be more adequate that we make an adjustment to\n",
            "[00:20:53,440 --> 00:21:04,380]  frankly translate the actual gains throughout this. As we just mentioned that the adjusted NIM\n",
            "[00:21:05,200 --> 00:21:18,110]  incorporate the swap gains will be as high as 1.06, 1.07% a year until the end.\n",
            "[00:21:18,110 --> 00:21:30,830]  Okay. 1.06% to 1.07% through the full year of 2022 also accumulated to the...\n",
            "[00:21:30,830 --> 00:21:41,620]  And also we have another question which is about if we look back the trading income in the third\n",
            "[00:21:41,620 --> 00:21:58,800]  quarter, how do you expect the currency swap? Actually, if we exclude the swap gains,\n",
            "[00:21:58,800 --> 00:22:09,540]  the trading gains for Treasury will be not so, I mean, not as well as the swap gains.\n",
            "[00:22:09,540 --> 00:22:20,540]  Because the capital market for this year was not a very outperforming conservative\n",
            "[00:22:20,540 --> 00:22:33,500]  attitude that we did not engage in the very risky or very exotic derivative. That would\n",
            "[00:22:33,500 --> 00:22:47,780]  translate into not a very aggressive trading strategies. Gains would not be so attractive\n",
            "[00:22:47,780 --> 00:22:57,660]  anyway. So we would mainly focus on the traditional, I mean, the placement, the fund\n",
            "[00:23:08,080 --> 00:23:37,920]  generator, actually the, I mean, the pure trading gain.\n",
            "[00:23:37,920 --> 00:23:49,630]  Okay. And we have another question of JP Morgan. Jimmy hopes to know the absolute amount\n",
            "[00:23:53,420 --> 00:24:06,220]  accumulated. How about this year? I just mentioned that for this year,\n",
            "[00:24:06,220 --> 00:24:15,520]  the projection swap will be 2.3, 2.5 for the nine months of last year.\n",
            "[00:24:16,080 --> 00:24:31,500]  No, for the whole year. Okay. For the first nine months, the swap gains to 1.2.\n",
            "[00:24:33,100 --> 00:24:40,110]  But these gains would affect or further exaggerated to even higher, I mean, more than double the\n",
            "[00:24:41,380 --> 00:24:43,780]  gains. Okay. So Jimmy Huang hopes to know what about last year.\n",
            "[00:24:43,780 --> 00:24:55,070]  Last year was only 8.7, 870 million. 870 million.\n",
            "[00:24:55,070 --> 00:24:57,710]  Yeah. That was for whole year last year. Right.\n",
            "[00:24:57,710 --> 00:25:04,130]  Last year, there was no interest rate gap. That was a really small portion.\n",
            "[00:25:04,130 --> 00:25:11,070]  Yeah. Very, very small and very narrow between US dollars and anti-dollars. It was until\n",
            "[00:25:11,070 --> 00:25:17,710]  this year that interest rate has been widened to 3% or more than that.\n",
            "[00:25:18,350 --> 00:25:20,990]  Right. Yeah. So that would help to\n",
            "[00:25:21,900 --> 00:25:25,360]  overall gains for swap transactions. Okay.\n",
            "[00:25:25,360 --> 00:25:31,600]  Last year, for the whole year, swap gains was just like less than 1 billion, 870.\n",
            "[00:25:31,600 --> 00:25:34,320]  All right. Okay. But this year, up to nine months,\n",
            "[00:25:34,320 --> 00:25:41,790]  we have already produced 1.2 billion and it will further boost up 2.3 to 2.4 billion.\n",
            "[00:25:42,030 --> 00:25:48,270]  Which means that nearly three times currency swap was really a booster.\n",
            "[00:25:48,270 --> 00:25:54,380]  Yeah. And for next year, it will be even higher.\n",
            "[00:25:54,380 --> 00:26:00,800]  Okay. Well, let's talk about that later. And let's finish the 2022 guidance.\n",
            "[00:26:01,440 --> 00:26:09,440]  Mr. Eric Shi hopes to know that the credit cost of the fiscal year for 2022,\n",
            "[00:26:09,440 --> 00:26:12,160]  is there any change on your guidance before?\n",
            "[00:26:15,090 --> 00:26:22,780]  For this year, we see some more extra provision against,\n",
            "[00:26:26,060 --> 00:26:36,500]  apart from the Tokyo exposure and also some exposure or delinquent portfolio would need to be\n",
            "[00:26:37,380 --> 00:26:45,680]  further charged off. So for this year's credit cost guidance will be lifted from\n",
            "[00:26:47,140 --> 00:26:56,960]  original projection around 18 to 19 bps, 22 bps due to the extra provision.\n",
            "[00:26:56,960 --> 00:27:03,060]  Okay. 22 bps for fiscal year of 2022. Yeah.\n",
            "[00:27:03,060 --> 00:27:07,940]  All right. Okay. And let's move to the second part,\n",
            "[00:27:07,940 --> 00:27:16,580]  which is the 2023 guidance. I'd like to start with, some of you are concerned about the NIM\n",
            "[00:27:17,140 --> 00:27:31,390]  23. So let's start with... Can you just talk about the NIM guidance for...\n",
            "[00:27:31,390 --> 00:27:40,270]  For next year, the NIM guidance will be quite exciting. Yeah. Actually, our adjusted NIM\n",
            "[00:27:41,150 --> 00:27:47,950]  outlook will be as high as an increase of about 9 to 10 bps.\n",
            "[00:27:48,510 --> 00:27:57,390]  All right. Adjusted NIM compared with adjusted NIM of this year, it will be 9 to 10 bps expansion\n",
            "[00:27:57,470 --> 00:28:18,220]  projection up to 1.15%. All right. Okay. So how does a firm generate so much?\n",
            "[00:28:18,220 --> 00:28:33,040]  Talk about that. Basically, we have attracted quite a huge liquidity\n",
            "[00:28:33,600 --> 00:28:43,680]  that our US dollar's deposit grew by 24% this year. So this very ample liquidity has been\n",
            "[00:28:44,500 --> 00:28:53,790]  channeled to swap transaction that actually locking the widened swap gains that help to\n",
            "[00:28:53,790 --> 00:29:04,750]  boost the overall swap gains. So our projection for next year's swap gains will be as high as\n",
            "[00:29:04,750 --> 00:29:15,070]  nearly $9 billion. All right. So that will help to boost the overall net interest income,\n",
            "[00:29:15,070 --> 00:29:22,910]  I mean NIM. Okay. So the lion's share of the adjusted NIM contribution will be from the\n",
            "[00:29:22,910 --> 00:29:36,510]  currency swap gains. In 2023, we projected a billion NT dollars for exciting.\n",
            "[00:29:36,990 --> 00:29:44,190]  Right. And also, can we talk about the loan growth of net?\n",
            "[00:29:44,190 --> 00:29:52,750]  When we turn back to our loan book expansion, that will be pretty much impacted by\n",
            "[00:29:53,550 --> 00:30:04,020]  the not so optimistic GDP growth that most of the analysts or government agency actually\n",
            "[00:30:04,580 --> 00:30:13,940]  revised down the GDP growth. That was less than 3% or as low as 2.5% to 2.7%.\n",
            "[00:30:15,060 --> 00:30:21,140]  So in that case, we set a target to grow our loan book by about just 5%,\n",
            "[00:30:22,420 --> 00:30:29,940]  which is to beat the GDP growth. And in terms of the composition of the loan portfolio,\n",
            "[00:30:29,940 --> 00:30:39,540]  the main growth drivers still source from FX lending that we were targeting a 7% to 8%\n",
            "[00:30:40,900 --> 00:30:48,320]  loan growth from the FX, particularly overseas loan portfolio. In terms of the\n",
            "[00:30:49,200 --> 00:30:59,600]  SME lending, it will be slowed down from current nearly 7% to about 4% to 5%.\n",
            "[00:31:00,990 --> 00:31:10,030]  And when we look into the mortgage book, after it recorded a double-digit 10% to 11%\n",
            "[00:31:10,350 --> 00:31:20,940]  expansion rate, next year the mortgage book would also lose some steam because the higher rates\n",
            "[00:31:20,940 --> 00:31:33,100]  will impact the mortgage buyers' momentum to engage in higher lending because their financing\n",
            "[00:31:33,180 --> 00:31:41,820]  costs actually come higher. So the main growth driver will be from FX lending more than 7%,\n",
            "[00:31:42,620 --> 00:31:49,820]  and SME and mortgage book would slow down to 4% or 3%.\n",
            "[00:31:52,030 --> 00:32:01,950]  Okay, let's conclude the loan growth. The total loan book growth will be projected for 5% growth.\n",
            "[00:32:02,750 --> 00:32:11,070]  In terms of the different sectors, for SME we projected a 4% to 5% growth, and for mortgage\n",
            "[00:32:11,070 --> 00:32:19,550]  lending we projected a 3% to 4% growth. And for FX lending, which will be the highest one,\n",
            "[00:32:19,550 --> 00:32:31,180]  we projected a 7% growth for next year. And so it will be the major projection for our loan book.\n",
            "[00:32:32,020 --> 00:32:41,840]  And let's talk about the fee income revenue. Annie, talk about the fee income guidance for us.\n",
            "[00:32:41,840 --> 00:32:54,060]  Next year, the fee revenue should see moderate growth around 5% to 6% after we recorded a\n",
            "[00:32:54,060 --> 00:33:02,910]  sluggish result this year. This year was mainly because the mutual fund sales was not that\n",
            "[00:33:04,830 --> 00:33:13,070]  attractive because of the sluggish markets. But next year, due to the low base period factor,\n",
            "[00:33:13,070 --> 00:33:19,390]  the wealth management fee revenue should see some decent growth up to 8% to 9%.\n",
            "[00:33:20,110 --> 00:33:31,600]  However, the loan related fee should see some setback because this year we already\n",
            "[00:33:33,360 --> 00:33:45,040]  reached 20% to 22% growth for the loan related fee, thanks to the very buoyant lending expansion.\n",
            "[00:33:46,000 --> 00:33:54,370]  So next year, based on the 5% loan growth outlook, the loan related fee should remain sluggish.\n",
            "[00:33:56,640 --> 00:34:06,960]  And another area that would help to boost the fee revenue would be for the overseas\n",
            "[00:34:08,050 --> 00:34:11,810]  overseas overseas overseas fee revenue.\n",
            "[00:34:15,620 --> 00:34:24,940]  Okay, thank you, Annie. And we have, because there we have projected,\n",
            "[00:34:27,150 --> 00:34:33,180]  how about the other financial products, other financial products, long term investment and\n",
            "[00:34:33,820 --> 00:34:49,200]  equity? Well, in fact, in fact, most analysts or trading house all projected a conservative\n",
            "[00:34:49,920 --> 00:35:03,470]  market next year after the rate hike and the volatile situation in the oil for for swap\n",
            "[00:35:04,130 --> 00:35:12,660]  transaction, the traditional treasury gains would see some setback. One reason would be\n",
            "[00:35:14,340 --> 00:35:25,790]  due to that the the dividend income from our core holding for the equity investment would go lower\n",
            "[00:35:25,790 --> 00:35:34,350]  because that profits from this investment target may lower their dividend payout. So that would\n",
            "[00:35:36,190 --> 00:35:48,610]  to tend to that impact our our dividend income. So apart from swap gains, other treasury\n",
            "[00:35:49,330 --> 00:35:59,440]  activities, the gains would lower next year. That was a major assumption. However, if the equity\n",
            "[00:35:59,440 --> 00:36:16,140]  market does perform better than our imagination, then maybe the treasury gains. Okay, so the basic\n",
            "[00:36:16,140 --> 00:36:32,460]  scenario is that if we exclude swap gains, that other decline next year, the swap gains still\n",
            "[00:36:35,490 --> 00:36:45,280]  brilliant growth, double digit growth, right? Because the swap gains was so far was still\n",
            "[00:36:45,760 --> 00:37:00,880]  more than four times the size that we look to this. And also, let's talk about the fee. How\n",
            "[00:37:00,880 --> 00:37:12,340]  about the operating expense? Well, for the cost front, the operating expense would grow by six\n",
            "[00:37:12,340 --> 00:37:20,660]  percent, mainly driven by the one source would be headcount cost and the other source be from\n",
            "[00:37:21,380 --> 00:37:32,290]  the increased like the purchase of green energy power and also the\n",
            "[00:37:34,050 --> 00:37:43,120]  restored travel cost and also our pay our fee paid to the deposit insurance would also be high.\n",
            "[00:37:43,120 --> 00:37:53,840]  So the six percent operating cost increase was mainly driven by driven by inflation as well.\n",
            "[00:37:54,780 --> 00:38:01,740]  And also, let's talk about the cost income ratio. Will it still be the same as this year?\n",
            "[00:38:02,300 --> 00:38:09,810]  Yeah, somewhere around 45%. This year, this year would reach about 46. Next year, 45.\n",
            "[00:38:10,370 --> 00:38:20,540]  Okay. And let's talk about the credit cost of next year. A lot of investors are concerned\n",
            "[00:38:20,540 --> 00:38:29,440]  about the credit cost. How do you first financial the credit cost of next year?\n",
            "[00:38:29,440 --> 00:38:40,560]  Next year, we still maintain a prudent provisioning strategy that post the\n",
            "[00:38:41,440 --> 00:38:53,860]  huge expansion of our loan broker. There may be some what we call it the natural influx of\n",
            "[00:38:53,860 --> 00:39:04,850]  loan portfolio. So next year, our credit cost would stay around 19 to 20 biths, just two\n",
            "[00:39:04,850 --> 00:39:15,810]  biths lower than that of this year due to the expansion of our loan book and also the portfolio\n",
            "[00:39:15,810 --> 00:39:31,250]  may also produce certain delinquent exposure so that that would not reduce our provision.\n",
            "[00:39:31,250 --> 00:39:38,850]  Next year, credit cost just slightly lower, 20 biths.\n",
            "[00:39:41,760 --> 00:39:51,280]  So the net credit cost will be 19 to 20 biths, 19 to 20 biths for next year. This is because\n",
            "[00:39:51,280 --> 00:40:06,740]  that we have had a pretty much recovery from the debt. We have had two years. And also,\n",
            "[00:40:06,740 --> 00:40:25,860]  let's talk about another part. Is there any rise issue plan for all rise?\n",
            "[00:40:25,860 --> 00:40:36,350]  Yeah. Actually, no plan for the time being because we still generate up to 9% ROE. So\n",
            "[00:40:37,230 --> 00:40:49,120]  this can finance our loan growth plan that our loan book would only advance by 5%. So an ROE of\n",
            "[00:40:49,840 --> 00:40:56,100]  9% should look decent to the asset growth.\n",
            "[00:40:57,940 --> 00:41:08,770]  Okay. And the last part is the dividend. The dividend payout policy is very, very important.\n",
            "[00:41:08,770 --> 00:41:14,000]  Can you talk about the dividend payout?\n",
            "[00:41:14,000 --> 00:41:27,390]  Well, our dividend plan should stay pretty close to what we normally do. However,\n",
            "[00:41:28,350 --> 00:41:47,920]  due to the huge jump in our loan portfolio, that actually reduced our core capital,\n",
            "[00:41:47,920 --> 00:41:56,900]  which means the CEC1 and the Tier 1. So in that sense, we would have to see\n",
            "[00:41:57,780 --> 00:42:07,940]  for next year's loan to stay what we originally projected, that less than 1%.\n",
            "[00:42:09,860 --> 00:42:14,990]  Then the dividend payout would not see some pressure that we have to retain\n",
            "[00:42:16,510 --> 00:42:22,460]  more earnings to support the loan growth. So we would see that\n",
            "[00:42:23,420 --> 00:42:36,820]  the 60% payout ratio may be a target for next year's percent.\n",
            "[00:42:36,820 --> 00:42:47,500]  Okay. 60% of cash, mainly by cash. Okay. And we have another question from Tina Chen.\n",
            "[00:42:47,500 --> 00:42:52,940]  Tina hopes to know, can we update the total loan growth for this year only?\n",
            "[00:42:53,900 --> 00:43:12,300]  Because nine months is a little bit beyond the expected.\n",
            "[00:43:12,300 --> 00:43:24,610]  For this year, we would be able to achieve nearly 11% to 12%, 11% to 12% loan growth.\n",
            "[00:43:24,610 --> 00:43:34,900]  And the main reason was driven by the hiking of U.S. dollar rate. Most clients actually arbitrage\n",
            "[00:43:34,980 --> 00:43:56,370]  to the low-cost anti-dollars. I mean, resulting higher anti-dollars LDR ratio up to 84%.\n",
            "[00:43:59,600 --> 00:44:11,550]  LDR ratio for U.S. dollars went down to less than 50%. This was partially distorted by\n",
            "[00:44:11,550 --> 00:44:21,570]  the interest rate gap between anti-dollars and U.S. dollars. This year's loan growth expansion\n",
            "[00:44:24,670 --> 00:44:29,660]  is a bit more than our prior projections.\n",
            "[00:44:29,660 --> 00:44:30,540]  All right. Okay.\n",
            "[00:44:30,540 --> 00:44:36,420]  Because this year's GDP growth was not that prominent.\n",
            "[00:44:36,420 --> 00:44:39,620]  Oh, a double-digit loan growth for this year. That's right.\n",
            "[00:44:39,620 --> 00:44:40,260]  Yeah, yeah.\n",
            "[00:44:40,260 --> 00:44:50,990]  Okay. And I think we need to catch up with some rationale behind the projection of net.\n",
            "[00:44:51,070 --> 00:45:00,750]  This is because what's the rationale behind this swap game expansion? So what does\n",
            "[00:45:01,950 --> 00:45:12,850]  first financial look the U.S. Fed rate hike to continue next year? And how about this year's\n",
            "[00:45:12,850 --> 00:45:20,830]  projection for the U.S. Fed and also for the Taiwan Central Bank's rate hike?\n",
            "[00:45:20,830 --> 00:45:56,270]  It seems that market agree that even though the interest rates in Taiwan that our central bank\n",
            "[00:45:56,270 --> 00:46:09,470]  will be more conservative or hesitate to the rate gap between the two nations become the\n",
            "[00:46:10,190 --> 00:46:24,500]  major source that the swap games will be distorted that people tend to anti-dollars\n",
            "[00:46:24,500 --> 00:46:46,590]  and be the major reason that a very portfolio look like. Otherwise, if there is no such\n",
            "[00:46:47,550 --> 00:47:01,280]  what we call the interest rate distortion, our original projection for our should stay less.\n",
            "[00:47:05,250 --> 00:47:16,850]  Since we have... What's your projection of first bank's deposit growth?\n",
            "[00:47:16,850 --> 00:47:42,420]  Next year's deposit growth should be lower after... Not as high as... And also,\n",
            "[00:47:42,420 --> 00:48:40,500]  the cash rate will continue to fall. The cash rate was global. How do you see a slower growth\n",
            "[00:48:40,500 --> 00:49:00,210]  in to see how this rate hike cycle would end the first half or in the first to see whether\n",
            "[00:49:01,010 --> 00:49:12,510]  the economy has already buttoned a divergency outlook between the bull and the bear that some\n",
            "[00:49:12,510 --> 00:49:45,170]  people would see the equity treasury gains? We should see because for the equity market to become\n",
            "[00:49:45,890 --> 00:50:14,590]  much more normal after Fed. I think we have answered all of the comments. So,\n",
            "[00:50:14,590 --> 00:50:47,860]  let's all have questions. Do not hesitate to email us or... I suppose most of the investors\n",
            "[00:50:47,860 --> 00:51:16,750]  that we would definitely pay. Okay. Thank you, Annie's conclusion. We hope you enjoy today's...\n"
          ]
        },
        {
          "output_type": "display_data",
          "data": {
            "text/plain": [
              "<IPython.core.display.Markdown object>"
            ],
            "text/markdown": "**Transcript file created: /content/drive/My Drive/羅浚/done_txt/2892第一金_2022Q3法人說明會(英)_20221130.txt**"
          },
          "metadata": {}
        }
      ]
    }
  ],
  "metadata": {
    "accelerator": "GPU",
    "colab": {
      "provenance": [],
      "gpuType": "T4"
    },
    "kernelspec": {
      "display_name": "Python 3",
      "name": "python3"
    },
    "language_info": {
      "name": "python"
    },
    "widgets": {
      "application/vnd.jupyter.widget-state+json": {
        "7a0e28561d2e4eebb8d0d1644369314f": {
          "model_module": "@jupyter-widgets/controls",
          "model_name": "HBoxModel",
          "model_module_version": "1.5.0",
          "state": {
            "_dom_classes": [],
            "_model_module": "@jupyter-widgets/controls",
            "_model_module_version": "1.5.0",
            "_model_name": "HBoxModel",
            "_view_count": null,
            "_view_module": "@jupyter-widgets/controls",
            "_view_module_version": "1.5.0",
            "_view_name": "HBoxView",
            "box_style": "",
            "children": [
              "IPY_MODEL_520195cdc4f7485cb9b1185ebbed4a7d",
              "IPY_MODEL_f2d0712e5d9b40f3b95eaf970e193c9b",
              "IPY_MODEL_724ccff20c514b4d9873545b3a04239e"
            ],
            "layout": "IPY_MODEL_90c1472629f4431fb1458dc6beccf898"
          }
        },
        "520195cdc4f7485cb9b1185ebbed4a7d": {
          "model_module": "@jupyter-widgets/controls",
          "model_name": "HTMLModel",
          "model_module_version": "1.5.0",
          "state": {
            "_dom_classes": [],
            "_model_module": "@jupyter-widgets/controls",
            "_model_module_version": "1.5.0",
            "_model_name": "HTMLModel",
            "_view_count": null,
            "_view_module": "@jupyter-widgets/controls",
            "_view_module_version": "1.5.0",
            "_view_name": "HTMLView",
            "description": "",
            "description_tooltip": null,
            "layout": "IPY_MODEL_262b90e4b23544f2a8b9a7ec582b87cd",
            "placeholder": "​",
            "style": "IPY_MODEL_9bc5d4b8e8eb48a7bf803c7df2987aff",
            "value": "Downloading tokenizer.json: 100%"
          }
        },
        "f2d0712e5d9b40f3b95eaf970e193c9b": {
          "model_module": "@jupyter-widgets/controls",
          "model_name": "FloatProgressModel",
          "model_module_version": "1.5.0",
          "state": {
            "_dom_classes": [],
            "_model_module": "@jupyter-widgets/controls",
            "_model_module_version": "1.5.0",
            "_model_name": "FloatProgressModel",
            "_view_count": null,
            "_view_module": "@jupyter-widgets/controls",
            "_view_module_version": "1.5.0",
            "_view_name": "ProgressView",
            "bar_style": "success",
            "description": "",
            "description_tooltip": null,
            "layout": "IPY_MODEL_9bb502ad14ce4724a7f81c349f4d45ba",
            "max": 2203239,
            "min": 0,
            "orientation": "horizontal",
            "style": "IPY_MODEL_8967958b948d4d308926adc8d9281ee8",
            "value": 2203239
          }
        },
        "724ccff20c514b4d9873545b3a04239e": {
          "model_module": "@jupyter-widgets/controls",
          "model_name": "HTMLModel",
          "model_module_version": "1.5.0",
          "state": {
            "_dom_classes": [],
            "_model_module": "@jupyter-widgets/controls",
            "_model_module_version": "1.5.0",
            "_model_name": "HTMLModel",
            "_view_count": null,
            "_view_module": "@jupyter-widgets/controls",
            "_view_module_version": "1.5.0",
            "_view_name": "HTMLView",
            "description": "",
            "description_tooltip": null,
            "layout": "IPY_MODEL_33a9cebe512a44198fd1de5de0921577",
            "placeholder": "​",
            "style": "IPY_MODEL_ae651516af6b450e9a10a0ef8d32a79b",
            "value": " 2.20M/2.20M [00:00&lt;00:00, 9.51MB/s]"
          }
        },
        "90c1472629f4431fb1458dc6beccf898": {
          "model_module": "@jupyter-widgets/base",
          "model_name": "LayoutModel",
          "model_module_version": "1.2.0",
          "state": {
            "_model_module": "@jupyter-widgets/base",
            "_model_module_version": "1.2.0",
            "_model_name": "LayoutModel",
            "_view_count": null,
            "_view_module": "@jupyter-widgets/base",
            "_view_module_version": "1.2.0",
            "_view_name": "LayoutView",
            "align_content": null,
            "align_items": null,
            "align_self": null,
            "border": null,
            "bottom": null,
            "display": null,
            "flex": null,
            "flex_flow": null,
            "grid_area": null,
            "grid_auto_columns": null,
            "grid_auto_flow": null,
            "grid_auto_rows": null,
            "grid_column": null,
            "grid_gap": null,
            "grid_row": null,
            "grid_template_areas": null,
            "grid_template_columns": null,
            "grid_template_rows": null,
            "height": null,
            "justify_content": null,
            "justify_items": null,
            "left": null,
            "margin": null,
            "max_height": null,
            "max_width": null,
            "min_height": null,
            "min_width": null,
            "object_fit": null,
            "object_position": null,
            "order": null,
            "overflow": null,
            "overflow_x": null,
            "overflow_y": null,
            "padding": null,
            "right": null,
            "top": null,
            "visibility": null,
            "width": null
          }
        },
        "262b90e4b23544f2a8b9a7ec582b87cd": {
          "model_module": "@jupyter-widgets/base",
          "model_name": "LayoutModel",
          "model_module_version": "1.2.0",
          "state": {
            "_model_module": "@jupyter-widgets/base",
            "_model_module_version": "1.2.0",
            "_model_name": "LayoutModel",
            "_view_count": null,
            "_view_module": "@jupyter-widgets/base",
            "_view_module_version": "1.2.0",
            "_view_name": "LayoutView",
            "align_content": null,
            "align_items": null,
            "align_self": null,
            "border": null,
            "bottom": null,
            "display": null,
            "flex": null,
            "flex_flow": null,
            "grid_area": null,
            "grid_auto_columns": null,
            "grid_auto_flow": null,
            "grid_auto_rows": null,
            "grid_column": null,
            "grid_gap": null,
            "grid_row": null,
            "grid_template_areas": null,
            "grid_template_columns": null,
            "grid_template_rows": null,
            "height": null,
            "justify_content": null,
            "justify_items": null,
            "left": null,
            "margin": null,
            "max_height": null,
            "max_width": null,
            "min_height": null,
            "min_width": null,
            "object_fit": null,
            "object_position": null,
            "order": null,
            "overflow": null,
            "overflow_x": null,
            "overflow_y": null,
            "padding": null,
            "right": null,
            "top": null,
            "visibility": null,
            "width": null
          }
        },
        "9bc5d4b8e8eb48a7bf803c7df2987aff": {
          "model_module": "@jupyter-widgets/controls",
          "model_name": "DescriptionStyleModel",
          "model_module_version": "1.5.0",
          "state": {
            "_model_module": "@jupyter-widgets/controls",
            "_model_module_version": "1.5.0",
            "_model_name": "DescriptionStyleModel",
            "_view_count": null,
            "_view_module": "@jupyter-widgets/base",
            "_view_module_version": "1.2.0",
            "_view_name": "StyleView",
            "description_width": ""
          }
        },
        "9bb502ad14ce4724a7f81c349f4d45ba": {
          "model_module": "@jupyter-widgets/base",
          "model_name": "LayoutModel",
          "model_module_version": "1.2.0",
          "state": {
            "_model_module": "@jupyter-widgets/base",
            "_model_module_version": "1.2.0",
            "_model_name": "LayoutModel",
            "_view_count": null,
            "_view_module": "@jupyter-widgets/base",
            "_view_module_version": "1.2.0",
            "_view_name": "LayoutView",
            "align_content": null,
            "align_items": null,
            "align_self": null,
            "border": null,
            "bottom": null,
            "display": null,
            "flex": null,
            "flex_flow": null,
            "grid_area": null,
            "grid_auto_columns": null,
            "grid_auto_flow": null,
            "grid_auto_rows": null,
            "grid_column": null,
            "grid_gap": null,
            "grid_row": null,
            "grid_template_areas": null,
            "grid_template_columns": null,
            "grid_template_rows": null,
            "height": null,
            "justify_content": null,
            "justify_items": null,
            "left": null,
            "margin": null,
            "max_height": null,
            "max_width": null,
            "min_height": null,
            "min_width": null,
            "object_fit": null,
            "object_position": null,
            "order": null,
            "overflow": null,
            "overflow_x": null,
            "overflow_y": null,
            "padding": null,
            "right": null,
            "top": null,
            "visibility": null,
            "width": null
          }
        },
        "8967958b948d4d308926adc8d9281ee8": {
          "model_module": "@jupyter-widgets/controls",
          "model_name": "ProgressStyleModel",
          "model_module_version": "1.5.0",
          "state": {
            "_model_module": "@jupyter-widgets/controls",
            "_model_module_version": "1.5.0",
            "_model_name": "ProgressStyleModel",
            "_view_count": null,
            "_view_module": "@jupyter-widgets/base",
            "_view_module_version": "1.2.0",
            "_view_name": "StyleView",
            "bar_color": null,
            "description_width": ""
          }
        },
        "33a9cebe512a44198fd1de5de0921577": {
          "model_module": "@jupyter-widgets/base",
          "model_name": "LayoutModel",
          "model_module_version": "1.2.0",
          "state": {
            "_model_module": "@jupyter-widgets/base",
            "_model_module_version": "1.2.0",
            "_model_name": "LayoutModel",
            "_view_count": null,
            "_view_module": "@jupyter-widgets/base",
            "_view_module_version": "1.2.0",
            "_view_name": "LayoutView",
            "align_content": null,
            "align_items": null,
            "align_self": null,
            "border": null,
            "bottom": null,
            "display": null,
            "flex": null,
            "flex_flow": null,
            "grid_area": null,
            "grid_auto_columns": null,
            "grid_auto_flow": null,
            "grid_auto_rows": null,
            "grid_column": null,
            "grid_gap": null,
            "grid_row": null,
            "grid_template_areas": null,
            "grid_template_columns": null,
            "grid_template_rows": null,
            "height": null,
            "justify_content": null,
            "justify_items": null,
            "left": null,
            "margin": null,
            "max_height": null,
            "max_width": null,
            "min_height": null,
            "min_width": null,
            "object_fit": null,
            "object_position": null,
            "order": null,
            "overflow": null,
            "overflow_x": null,
            "overflow_y": null,
            "padding": null,
            "right": null,
            "top": null,
            "visibility": null,
            "width": null
          }
        },
        "ae651516af6b450e9a10a0ef8d32a79b": {
          "model_module": "@jupyter-widgets/controls",
          "model_name": "DescriptionStyleModel",
          "model_module_version": "1.5.0",
          "state": {
            "_model_module": "@jupyter-widgets/controls",
            "_model_module_version": "1.5.0",
            "_model_name": "DescriptionStyleModel",
            "_view_count": null,
            "_view_module": "@jupyter-widgets/base",
            "_view_module_version": "1.2.0",
            "_view_name": "StyleView",
            "description_width": ""
          }
        },
        "50b51ab237f544fcbc3e6a9ce22a7cb1": {
          "model_module": "@jupyter-widgets/controls",
          "model_name": "HBoxModel",
          "model_module_version": "1.5.0",
          "state": {
            "_dom_classes": [],
            "_model_module": "@jupyter-widgets/controls",
            "_model_module_version": "1.5.0",
            "_model_name": "HBoxModel",
            "_view_count": null,
            "_view_module": "@jupyter-widgets/controls",
            "_view_module_version": "1.5.0",
            "_view_name": "HBoxView",
            "box_style": "",
            "children": [
              "IPY_MODEL_14d4eb9504984494947fd764a04a3742",
              "IPY_MODEL_b778efc444b241a08ea15a6fae41cc07",
              "IPY_MODEL_fbb473c1997a4261ba64aaa01ab7ef87"
            ],
            "layout": "IPY_MODEL_19d5d1c3105c4ee7bc451afd1af0597f"
          }
        },
        "14d4eb9504984494947fd764a04a3742": {
          "model_module": "@jupyter-widgets/controls",
          "model_name": "HTMLModel",
          "model_module_version": "1.5.0",
          "state": {
            "_dom_classes": [],
            "_model_module": "@jupyter-widgets/controls",
            "_model_module_version": "1.5.0",
            "_model_name": "HTMLModel",
            "_view_count": null,
            "_view_module": "@jupyter-widgets/controls",
            "_view_module_version": "1.5.0",
            "_view_name": "HTMLView",
            "description": "",
            "description_tooltip": null,
            "layout": "IPY_MODEL_a45be975121e448095ca188178b56924",
            "placeholder": "​",
            "style": "IPY_MODEL_7525cc4649454ffdb24a656b275f0e5c",
            "value": "Downloading vocabulary.txt: 100%"
          }
        },
        "b778efc444b241a08ea15a6fae41cc07": {
          "model_module": "@jupyter-widgets/controls",
          "model_name": "FloatProgressModel",
          "model_module_version": "1.5.0",
          "state": {
            "_dom_classes": [],
            "_model_module": "@jupyter-widgets/controls",
            "_model_module_version": "1.5.0",
            "_model_name": "FloatProgressModel",
            "_view_count": null,
            "_view_module": "@jupyter-widgets/controls",
            "_view_module_version": "1.5.0",
            "_view_name": "ProgressView",
            "bar_style": "success",
            "description": "",
            "description_tooltip": null,
            "layout": "IPY_MODEL_831f9e508b7043cb89abee23250c4006",
            "max": 459861,
            "min": 0,
            "orientation": "horizontal",
            "style": "IPY_MODEL_12693ee381b840cb84e095a171a049eb",
            "value": 459861
          }
        },
        "fbb473c1997a4261ba64aaa01ab7ef87": {
          "model_module": "@jupyter-widgets/controls",
          "model_name": "HTMLModel",
          "model_module_version": "1.5.0",
          "state": {
            "_dom_classes": [],
            "_model_module": "@jupyter-widgets/controls",
            "_model_module_version": "1.5.0",
            "_model_name": "HTMLModel",
            "_view_count": null,
            "_view_module": "@jupyter-widgets/controls",
            "_view_module_version": "1.5.0",
            "_view_name": "HTMLView",
            "description": "",
            "description_tooltip": null,
            "layout": "IPY_MODEL_0721da46a70b4191b0aadad655f273ba",
            "placeholder": "​",
            "style": "IPY_MODEL_7481f06fd0bd490e9b9d46b0dcc794c1",
            "value": " 460k/460k [00:00&lt;00:00, 3.43MB/s]"
          }
        },
        "19d5d1c3105c4ee7bc451afd1af0597f": {
          "model_module": "@jupyter-widgets/base",
          "model_name": "LayoutModel",
          "model_module_version": "1.2.0",
          "state": {
            "_model_module": "@jupyter-widgets/base",
            "_model_module_version": "1.2.0",
            "_model_name": "LayoutModel",
            "_view_count": null,
            "_view_module": "@jupyter-widgets/base",
            "_view_module_version": "1.2.0",
            "_view_name": "LayoutView",
            "align_content": null,
            "align_items": null,
            "align_self": null,
            "border": null,
            "bottom": null,
            "display": null,
            "flex": null,
            "flex_flow": null,
            "grid_area": null,
            "grid_auto_columns": null,
            "grid_auto_flow": null,
            "grid_auto_rows": null,
            "grid_column": null,
            "grid_gap": null,
            "grid_row": null,
            "grid_template_areas": null,
            "grid_template_columns": null,
            "grid_template_rows": null,
            "height": null,
            "justify_content": null,
            "justify_items": null,
            "left": null,
            "margin": null,
            "max_height": null,
            "max_width": null,
            "min_height": null,
            "min_width": null,
            "object_fit": null,
            "object_position": null,
            "order": null,
            "overflow": null,
            "overflow_x": null,
            "overflow_y": null,
            "padding": null,
            "right": null,
            "top": null,
            "visibility": null,
            "width": null
          }
        },
        "a45be975121e448095ca188178b56924": {
          "model_module": "@jupyter-widgets/base",
          "model_name": "LayoutModel",
          "model_module_version": "1.2.0",
          "state": {
            "_model_module": "@jupyter-widgets/base",
            "_model_module_version": "1.2.0",
            "_model_name": "LayoutModel",
            "_view_count": null,
            "_view_module": "@jupyter-widgets/base",
            "_view_module_version": "1.2.0",
            "_view_name": "LayoutView",
            "align_content": null,
            "align_items": null,
            "align_self": null,
            "border": null,
            "bottom": null,
            "display": null,
            "flex": null,
            "flex_flow": null,
            "grid_area": null,
            "grid_auto_columns": null,
            "grid_auto_flow": null,
            "grid_auto_rows": null,
            "grid_column": null,
            "grid_gap": null,
            "grid_row": null,
            "grid_template_areas": null,
            "grid_template_columns": null,
            "grid_template_rows": null,
            "height": null,
            "justify_content": null,
            "justify_items": null,
            "left": null,
            "margin": null,
            "max_height": null,
            "max_width": null,
            "min_height": null,
            "min_width": null,
            "object_fit": null,
            "object_position": null,
            "order": null,
            "overflow": null,
            "overflow_x": null,
            "overflow_y": null,
            "padding": null,
            "right": null,
            "top": null,
            "visibility": null,
            "width": null
          }
        },
        "7525cc4649454ffdb24a656b275f0e5c": {
          "model_module": "@jupyter-widgets/controls",
          "model_name": "DescriptionStyleModel",
          "model_module_version": "1.5.0",
          "state": {
            "_model_module": "@jupyter-widgets/controls",
            "_model_module_version": "1.5.0",
            "_model_name": "DescriptionStyleModel",
            "_view_count": null,
            "_view_module": "@jupyter-widgets/base",
            "_view_module_version": "1.2.0",
            "_view_name": "StyleView",
            "description_width": ""
          }
        },
        "831f9e508b7043cb89abee23250c4006": {
          "model_module": "@jupyter-widgets/base",
          "model_name": "LayoutModel",
          "model_module_version": "1.2.0",
          "state": {
            "_model_module": "@jupyter-widgets/base",
            "_model_module_version": "1.2.0",
            "_model_name": "LayoutModel",
            "_view_count": null,
            "_view_module": "@jupyter-widgets/base",
            "_view_module_version": "1.2.0",
            "_view_name": "LayoutView",
            "align_content": null,
            "align_items": null,
            "align_self": null,
            "border": null,
            "bottom": null,
            "display": null,
            "flex": null,
            "flex_flow": null,
            "grid_area": null,
            "grid_auto_columns": null,
            "grid_auto_flow": null,
            "grid_auto_rows": null,
            "grid_column": null,
            "grid_gap": null,
            "grid_row": null,
            "grid_template_areas": null,
            "grid_template_columns": null,
            "grid_template_rows": null,
            "height": null,
            "justify_content": null,
            "justify_items": null,
            "left": null,
            "margin": null,
            "max_height": null,
            "max_width": null,
            "min_height": null,
            "min_width": null,
            "object_fit": null,
            "object_position": null,
            "order": null,
            "overflow": null,
            "overflow_x": null,
            "overflow_y": null,
            "padding": null,
            "right": null,
            "top": null,
            "visibility": null,
            "width": null
          }
        },
        "12693ee381b840cb84e095a171a049eb": {
          "model_module": "@jupyter-widgets/controls",
          "model_name": "ProgressStyleModel",
          "model_module_version": "1.5.0",
          "state": {
            "_model_module": "@jupyter-widgets/controls",
            "_model_module_version": "1.5.0",
            "_model_name": "ProgressStyleModel",
            "_view_count": null,
            "_view_module": "@jupyter-widgets/base",
            "_view_module_version": "1.2.0",
            "_view_name": "StyleView",
            "bar_color": null,
            "description_width": ""
          }
        },
        "0721da46a70b4191b0aadad655f273ba": {
          "model_module": "@jupyter-widgets/base",
          "model_name": "LayoutModel",
          "model_module_version": "1.2.0",
          "state": {
            "_model_module": "@jupyter-widgets/base",
            "_model_module_version": "1.2.0",
            "_model_name": "LayoutModel",
            "_view_count": null,
            "_view_module": "@jupyter-widgets/base",
            "_view_module_version": "1.2.0",
            "_view_name": "LayoutView",
            "align_content": null,
            "align_items": null,
            "align_self": null,
            "border": null,
            "bottom": null,
            "display": null,
            "flex": null,
            "flex_flow": null,
            "grid_area": null,
            "grid_auto_columns": null,
            "grid_auto_flow": null,
            "grid_auto_rows": null,
            "grid_column": null,
            "grid_gap": null,
            "grid_row": null,
            "grid_template_areas": null,
            "grid_template_columns": null,
            "grid_template_rows": null,
            "height": null,
            "justify_content": null,
            "justify_items": null,
            "left": null,
            "margin": null,
            "max_height": null,
            "max_width": null,
            "min_height": null,
            "min_width": null,
            "object_fit": null,
            "object_position": null,
            "order": null,
            "overflow": null,
            "overflow_x": null,
            "overflow_y": null,
            "padding": null,
            "right": null,
            "top": null,
            "visibility": null,
            "width": null
          }
        },
        "7481f06fd0bd490e9b9d46b0dcc794c1": {
          "model_module": "@jupyter-widgets/controls",
          "model_name": "DescriptionStyleModel",
          "model_module_version": "1.5.0",
          "state": {
            "_model_module": "@jupyter-widgets/controls",
            "_model_module_version": "1.5.0",
            "_model_name": "DescriptionStyleModel",
            "_view_count": null,
            "_view_module": "@jupyter-widgets/base",
            "_view_module_version": "1.2.0",
            "_view_name": "StyleView",
            "description_width": ""
          }
        },
        "25090155da0c4344a80fc20bf7f689b0": {
          "model_module": "@jupyter-widgets/controls",
          "model_name": "HBoxModel",
          "model_module_version": "1.5.0",
          "state": {
            "_dom_classes": [],
            "_model_module": "@jupyter-widgets/controls",
            "_model_module_version": "1.5.0",
            "_model_name": "HBoxModel",
            "_view_count": null,
            "_view_module": "@jupyter-widgets/controls",
            "_view_module_version": "1.5.0",
            "_view_name": "HBoxView",
            "box_style": "",
            "children": [
              "IPY_MODEL_dfb08ef3e7f24a2a83b08b3988587724",
              "IPY_MODEL_8635d72194c6494ab04581715034e9f6",
              "IPY_MODEL_b08caa51dba84518adb3b8a5f9e1e5bd"
            ],
            "layout": "IPY_MODEL_70f30f8eb19b4374a03e6d5e6a83c546"
          }
        },
        "dfb08ef3e7f24a2a83b08b3988587724": {
          "model_module": "@jupyter-widgets/controls",
          "model_name": "HTMLModel",
          "model_module_version": "1.5.0",
          "state": {
            "_dom_classes": [],
            "_model_module": "@jupyter-widgets/controls",
            "_model_module_version": "1.5.0",
            "_model_name": "HTMLModel",
            "_view_count": null,
            "_view_module": "@jupyter-widgets/controls",
            "_view_module_version": "1.5.0",
            "_view_name": "HTMLView",
            "description": "",
            "description_tooltip": null,
            "layout": "IPY_MODEL_b3a300938f09430b92b48417d80b4c7f",
            "placeholder": "​",
            "style": "IPY_MODEL_aaa88fdd59ac456db1b9b820cf1be8b3",
            "value": "Downloading config.json: 100%"
          }
        },
        "8635d72194c6494ab04581715034e9f6": {
          "model_module": "@jupyter-widgets/controls",
          "model_name": "FloatProgressModel",
          "model_module_version": "1.5.0",
          "state": {
            "_dom_classes": [],
            "_model_module": "@jupyter-widgets/controls",
            "_model_module_version": "1.5.0",
            "_model_name": "FloatProgressModel",
            "_view_count": null,
            "_view_module": "@jupyter-widgets/controls",
            "_view_module_version": "1.5.0",
            "_view_name": "ProgressView",
            "bar_style": "success",
            "description": "",
            "description_tooltip": null,
            "layout": "IPY_MODEL_083fedd8d1a74c99a1d15e9f65ac0734",
            "max": 2796,
            "min": 0,
            "orientation": "horizontal",
            "style": "IPY_MODEL_58787a1219f24d9a908a7a3437e49862",
            "value": 2796
          }
        },
        "b08caa51dba84518adb3b8a5f9e1e5bd": {
          "model_module": "@jupyter-widgets/controls",
          "model_name": "HTMLModel",
          "model_module_version": "1.5.0",
          "state": {
            "_dom_classes": [],
            "_model_module": "@jupyter-widgets/controls",
            "_model_module_version": "1.5.0",
            "_model_name": "HTMLModel",
            "_view_count": null,
            "_view_module": "@jupyter-widgets/controls",
            "_view_module_version": "1.5.0",
            "_view_name": "HTMLView",
            "description": "",
            "description_tooltip": null,
            "layout": "IPY_MODEL_238e6582389c453d97c648c82cb244e0",
            "placeholder": "​",
            "style": "IPY_MODEL_73649999a33a4fddb9c92e554000cad6",
            "value": " 2.80k/2.80k [00:00&lt;00:00, 44.5kB/s]"
          }
        },
        "70f30f8eb19b4374a03e6d5e6a83c546": {
          "model_module": "@jupyter-widgets/base",
          "model_name": "LayoutModel",
          "model_module_version": "1.2.0",
          "state": {
            "_model_module": "@jupyter-widgets/base",
            "_model_module_version": "1.2.0",
            "_model_name": "LayoutModel",
            "_view_count": null,
            "_view_module": "@jupyter-widgets/base",
            "_view_module_version": "1.2.0",
            "_view_name": "LayoutView",
            "align_content": null,
            "align_items": null,
            "align_self": null,
            "border": null,
            "bottom": null,
            "display": null,
            "flex": null,
            "flex_flow": null,
            "grid_area": null,
            "grid_auto_columns": null,
            "grid_auto_flow": null,
            "grid_auto_rows": null,
            "grid_column": null,
            "grid_gap": null,
            "grid_row": null,
            "grid_template_areas": null,
            "grid_template_columns": null,
            "grid_template_rows": null,
            "height": null,
            "justify_content": null,
            "justify_items": null,
            "left": null,
            "margin": null,
            "max_height": null,
            "max_width": null,
            "min_height": null,
            "min_width": null,
            "object_fit": null,
            "object_position": null,
            "order": null,
            "overflow": null,
            "overflow_x": null,
            "overflow_y": null,
            "padding": null,
            "right": null,
            "top": null,
            "visibility": null,
            "width": null
          }
        },
        "b3a300938f09430b92b48417d80b4c7f": {
          "model_module": "@jupyter-widgets/base",
          "model_name": "LayoutModel",
          "model_module_version": "1.2.0",
          "state": {
            "_model_module": "@jupyter-widgets/base",
            "_model_module_version": "1.2.0",
            "_model_name": "LayoutModel",
            "_view_count": null,
            "_view_module": "@jupyter-widgets/base",
            "_view_module_version": "1.2.0",
            "_view_name": "LayoutView",
            "align_content": null,
            "align_items": null,
            "align_self": null,
            "border": null,
            "bottom": null,
            "display": null,
            "flex": null,
            "flex_flow": null,
            "grid_area": null,
            "grid_auto_columns": null,
            "grid_auto_flow": null,
            "grid_auto_rows": null,
            "grid_column": null,
            "grid_gap": null,
            "grid_row": null,
            "grid_template_areas": null,
            "grid_template_columns": null,
            "grid_template_rows": null,
            "height": null,
            "justify_content": null,
            "justify_items": null,
            "left": null,
            "margin": null,
            "max_height": null,
            "max_width": null,
            "min_height": null,
            "min_width": null,
            "object_fit": null,
            "object_position": null,
            "order": null,
            "overflow": null,
            "overflow_x": null,
            "overflow_y": null,
            "padding": null,
            "right": null,
            "top": null,
            "visibility": null,
            "width": null
          }
        },
        "aaa88fdd59ac456db1b9b820cf1be8b3": {
          "model_module": "@jupyter-widgets/controls",
          "model_name": "DescriptionStyleModel",
          "model_module_version": "1.5.0",
          "state": {
            "_model_module": "@jupyter-widgets/controls",
            "_model_module_version": "1.5.0",
            "_model_name": "DescriptionStyleModel",
            "_view_count": null,
            "_view_module": "@jupyter-widgets/base",
            "_view_module_version": "1.2.0",
            "_view_name": "StyleView",
            "description_width": ""
          }
        },
        "083fedd8d1a74c99a1d15e9f65ac0734": {
          "model_module": "@jupyter-widgets/base",
          "model_name": "LayoutModel",
          "model_module_version": "1.2.0",
          "state": {
            "_model_module": "@jupyter-widgets/base",
            "_model_module_version": "1.2.0",
            "_model_name": "LayoutModel",
            "_view_count": null,
            "_view_module": "@jupyter-widgets/base",
            "_view_module_version": "1.2.0",
            "_view_name": "LayoutView",
            "align_content": null,
            "align_items": null,
            "align_self": null,
            "border": null,
            "bottom": null,
            "display": null,
            "flex": null,
            "flex_flow": null,
            "grid_area": null,
            "grid_auto_columns": null,
            "grid_auto_flow": null,
            "grid_auto_rows": null,
            "grid_column": null,
            "grid_gap": null,
            "grid_row": null,
            "grid_template_areas": null,
            "grid_template_columns": null,
            "grid_template_rows": null,
            "height": null,
            "justify_content": null,
            "justify_items": null,
            "left": null,
            "margin": null,
            "max_height": null,
            "max_width": null,
            "min_height": null,
            "min_width": null,
            "object_fit": null,
            "object_position": null,
            "order": null,
            "overflow": null,
            "overflow_x": null,
            "overflow_y": null,
            "padding": null,
            "right": null,
            "top": null,
            "visibility": null,
            "width": null
          }
        },
        "58787a1219f24d9a908a7a3437e49862": {
          "model_module": "@jupyter-widgets/controls",
          "model_name": "ProgressStyleModel",
          "model_module_version": "1.5.0",
          "state": {
            "_model_module": "@jupyter-widgets/controls",
            "_model_module_version": "1.5.0",
            "_model_name": "ProgressStyleModel",
            "_view_count": null,
            "_view_module": "@jupyter-widgets/base",
            "_view_module_version": "1.2.0",
            "_view_name": "StyleView",
            "bar_color": null,
            "description_width": ""
          }
        },
        "238e6582389c453d97c648c82cb244e0": {
          "model_module": "@jupyter-widgets/base",
          "model_name": "LayoutModel",
          "model_module_version": "1.2.0",
          "state": {
            "_model_module": "@jupyter-widgets/base",
            "_model_module_version": "1.2.0",
            "_model_name": "LayoutModel",
            "_view_count": null,
            "_view_module": "@jupyter-widgets/base",
            "_view_module_version": "1.2.0",
            "_view_name": "LayoutView",
            "align_content": null,
            "align_items": null,
            "align_self": null,
            "border": null,
            "bottom": null,
            "display": null,
            "flex": null,
            "flex_flow": null,
            "grid_area": null,
            "grid_auto_columns": null,
            "grid_auto_flow": null,
            "grid_auto_rows": null,
            "grid_column": null,
            "grid_gap": null,
            "grid_row": null,
            "grid_template_areas": null,
            "grid_template_columns": null,
            "grid_template_rows": null,
            "height": null,
            "justify_content": null,
            "justify_items": null,
            "left": null,
            "margin": null,
            "max_height": null,
            "max_width": null,
            "min_height": null,
            "min_width": null,
            "object_fit": null,
            "object_position": null,
            "order": null,
            "overflow": null,
            "overflow_x": null,
            "overflow_y": null,
            "padding": null,
            "right": null,
            "top": null,
            "visibility": null,
            "width": null
          }
        },
        "73649999a33a4fddb9c92e554000cad6": {
          "model_module": "@jupyter-widgets/controls",
          "model_name": "DescriptionStyleModel",
          "model_module_version": "1.5.0",
          "state": {
            "_model_module": "@jupyter-widgets/controls",
            "_model_module_version": "1.5.0",
            "_model_name": "DescriptionStyleModel",
            "_view_count": null,
            "_view_module": "@jupyter-widgets/base",
            "_view_module_version": "1.2.0",
            "_view_name": "StyleView",
            "description_width": ""
          }
        },
        "c20d7cd74ee7493782ca32a26f179c25": {
          "model_module": "@jupyter-widgets/controls",
          "model_name": "HBoxModel",
          "model_module_version": "1.5.0",
          "state": {
            "_dom_classes": [],
            "_model_module": "@jupyter-widgets/controls",
            "_model_module_version": "1.5.0",
            "_model_name": "HBoxModel",
            "_view_count": null,
            "_view_module": "@jupyter-widgets/controls",
            "_view_module_version": "1.5.0",
            "_view_name": "HBoxView",
            "box_style": "",
            "children": [
              "IPY_MODEL_a1ba26425db54435a4a4533170e8d7d0",
              "IPY_MODEL_fb0d082667e24d3a819641c383bc49f8",
              "IPY_MODEL_252beecda2ab4421b8f53076d666e674"
            ],
            "layout": "IPY_MODEL_06bb5fbe7cb64ace8805f471eae2fc19"
          }
        },
        "a1ba26425db54435a4a4533170e8d7d0": {
          "model_module": "@jupyter-widgets/controls",
          "model_name": "HTMLModel",
          "model_module_version": "1.5.0",
          "state": {
            "_dom_classes": [],
            "_model_module": "@jupyter-widgets/controls",
            "_model_module_version": "1.5.0",
            "_model_name": "HTMLModel",
            "_view_count": null,
            "_view_module": "@jupyter-widgets/controls",
            "_view_module_version": "1.5.0",
            "_view_name": "HTMLView",
            "description": "",
            "description_tooltip": null,
            "layout": "IPY_MODEL_8ab2a421c8c14c3b99cdfd6e4bae401a",
            "placeholder": "​",
            "style": "IPY_MODEL_a6131c7f3fc34697b30dce17d6751611",
            "value": "Downloading model.bin: 100%"
          }
        },
        "fb0d082667e24d3a819641c383bc49f8": {
          "model_module": "@jupyter-widgets/controls",
          "model_name": "FloatProgressModel",
          "model_module_version": "1.5.0",
          "state": {
            "_dom_classes": [],
            "_model_module": "@jupyter-widgets/controls",
            "_model_module_version": "1.5.0",
            "_model_name": "FloatProgressModel",
            "_view_count": null,
            "_view_module": "@jupyter-widgets/controls",
            "_view_module_version": "1.5.0",
            "_view_name": "ProgressView",
            "bar_style": "success",
            "description": "",
            "description_tooltip": null,
            "layout": "IPY_MODEL_71faaec53a20490eb8eeb226b40c70ed",
            "max": 3086912962,
            "min": 0,
            "orientation": "horizontal",
            "style": "IPY_MODEL_a8d0e14d61da4cd6bbd62f5056a3c7b5",
            "value": 3086912962
          }
        },
        "252beecda2ab4421b8f53076d666e674": {
          "model_module": "@jupyter-widgets/controls",
          "model_name": "HTMLModel",
          "model_module_version": "1.5.0",
          "state": {
            "_dom_classes": [],
            "_model_module": "@jupyter-widgets/controls",
            "_model_module_version": "1.5.0",
            "_model_name": "HTMLModel",
            "_view_count": null,
            "_view_module": "@jupyter-widgets/controls",
            "_view_module_version": "1.5.0",
            "_view_name": "HTMLView",
            "description": "",
            "description_tooltip": null,
            "layout": "IPY_MODEL_8d14e3b0506d415b8ebf87ac0be58ca3",
            "placeholder": "​",
            "style": "IPY_MODEL_0af4881ef377452abcab5f034ddc2f16",
            "value": " 3.09G/3.09G [00:25&lt;00:00, 163MB/s]"
          }
        },
        "06bb5fbe7cb64ace8805f471eae2fc19": {
          "model_module": "@jupyter-widgets/base",
          "model_name": "LayoutModel",
          "model_module_version": "1.2.0",
          "state": {
            "_model_module": "@jupyter-widgets/base",
            "_model_module_version": "1.2.0",
            "_model_name": "LayoutModel",
            "_view_count": null,
            "_view_module": "@jupyter-widgets/base",
            "_view_module_version": "1.2.0",
            "_view_name": "LayoutView",
            "align_content": null,
            "align_items": null,
            "align_self": null,
            "border": null,
            "bottom": null,
            "display": null,
            "flex": null,
            "flex_flow": null,
            "grid_area": null,
            "grid_auto_columns": null,
            "grid_auto_flow": null,
            "grid_auto_rows": null,
            "grid_column": null,
            "grid_gap": null,
            "grid_row": null,
            "grid_template_areas": null,
            "grid_template_columns": null,
            "grid_template_rows": null,
            "height": null,
            "justify_content": null,
            "justify_items": null,
            "left": null,
            "margin": null,
            "max_height": null,
            "max_width": null,
            "min_height": null,
            "min_width": null,
            "object_fit": null,
            "object_position": null,
            "order": null,
            "overflow": null,
            "overflow_x": null,
            "overflow_y": null,
            "padding": null,
            "right": null,
            "top": null,
            "visibility": null,
            "width": null
          }
        },
        "8ab2a421c8c14c3b99cdfd6e4bae401a": {
          "model_module": "@jupyter-widgets/base",
          "model_name": "LayoutModel",
          "model_module_version": "1.2.0",
          "state": {
            "_model_module": "@jupyter-widgets/base",
            "_model_module_version": "1.2.0",
            "_model_name": "LayoutModel",
            "_view_count": null,
            "_view_module": "@jupyter-widgets/base",
            "_view_module_version": "1.2.0",
            "_view_name": "LayoutView",
            "align_content": null,
            "align_items": null,
            "align_self": null,
            "border": null,
            "bottom": null,
            "display": null,
            "flex": null,
            "flex_flow": null,
            "grid_area": null,
            "grid_auto_columns": null,
            "grid_auto_flow": null,
            "grid_auto_rows": null,
            "grid_column": null,
            "grid_gap": null,
            "grid_row": null,
            "grid_template_areas": null,
            "grid_template_columns": null,
            "grid_template_rows": null,
            "height": null,
            "justify_content": null,
            "justify_items": null,
            "left": null,
            "margin": null,
            "max_height": null,
            "max_width": null,
            "min_height": null,
            "min_width": null,
            "object_fit": null,
            "object_position": null,
            "order": null,
            "overflow": null,
            "overflow_x": null,
            "overflow_y": null,
            "padding": null,
            "right": null,
            "top": null,
            "visibility": null,
            "width": null
          }
        },
        "a6131c7f3fc34697b30dce17d6751611": {
          "model_module": "@jupyter-widgets/controls",
          "model_name": "DescriptionStyleModel",
          "model_module_version": "1.5.0",
          "state": {
            "_model_module": "@jupyter-widgets/controls",
            "_model_module_version": "1.5.0",
            "_model_name": "DescriptionStyleModel",
            "_view_count": null,
            "_view_module": "@jupyter-widgets/base",
            "_view_module_version": "1.2.0",
            "_view_name": "StyleView",
            "description_width": ""
          }
        },
        "71faaec53a20490eb8eeb226b40c70ed": {
          "model_module": "@jupyter-widgets/base",
          "model_name": "LayoutModel",
          "model_module_version": "1.2.0",
          "state": {
            "_model_module": "@jupyter-widgets/base",
            "_model_module_version": "1.2.0",
            "_model_name": "LayoutModel",
            "_view_count": null,
            "_view_module": "@jupyter-widgets/base",
            "_view_module_version": "1.2.0",
            "_view_name": "LayoutView",
            "align_content": null,
            "align_items": null,
            "align_self": null,
            "border": null,
            "bottom": null,
            "display": null,
            "flex": null,
            "flex_flow": null,
            "grid_area": null,
            "grid_auto_columns": null,
            "grid_auto_flow": null,
            "grid_auto_rows": null,
            "grid_column": null,
            "grid_gap": null,
            "grid_row": null,
            "grid_template_areas": null,
            "grid_template_columns": null,
            "grid_template_rows": null,
            "height": null,
            "justify_content": null,
            "justify_items": null,
            "left": null,
            "margin": null,
            "max_height": null,
            "max_width": null,
            "min_height": null,
            "min_width": null,
            "object_fit": null,
            "object_position": null,
            "order": null,
            "overflow": null,
            "overflow_x": null,
            "overflow_y": null,
            "padding": null,
            "right": null,
            "top": null,
            "visibility": null,
            "width": null
          }
        },
        "a8d0e14d61da4cd6bbd62f5056a3c7b5": {
          "model_module": "@jupyter-widgets/controls",
          "model_name": "ProgressStyleModel",
          "model_module_version": "1.5.0",
          "state": {
            "_model_module": "@jupyter-widgets/controls",
            "_model_module_version": "1.5.0",
            "_model_name": "ProgressStyleModel",
            "_view_count": null,
            "_view_module": "@jupyter-widgets/base",
            "_view_module_version": "1.2.0",
            "_view_name": "StyleView",
            "bar_color": null,
            "description_width": ""
          }
        },
        "8d14e3b0506d415b8ebf87ac0be58ca3": {
          "model_module": "@jupyter-widgets/base",
          "model_name": "LayoutModel",
          "model_module_version": "1.2.0",
          "state": {
            "_model_module": "@jupyter-widgets/base",
            "_model_module_version": "1.2.0",
            "_model_name": "LayoutModel",
            "_view_count": null,
            "_view_module": "@jupyter-widgets/base",
            "_view_module_version": "1.2.0",
            "_view_name": "LayoutView",
            "align_content": null,
            "align_items": null,
            "align_self": null,
            "border": null,
            "bottom": null,
            "display": null,
            "flex": null,
            "flex_flow": null,
            "grid_area": null,
            "grid_auto_columns": null,
            "grid_auto_flow": null,
            "grid_auto_rows": null,
            "grid_column": null,
            "grid_gap": null,
            "grid_row": null,
            "grid_template_areas": null,
            "grid_template_columns": null,
            "grid_template_rows": null,
            "height": null,
            "justify_content": null,
            "justify_items": null,
            "left": null,
            "margin": null,
            "max_height": null,
            "max_width": null,
            "min_height": null,
            "min_width": null,
            "object_fit": null,
            "object_position": null,
            "order": null,
            "overflow": null,
            "overflow_x": null,
            "overflow_y": null,
            "padding": null,
            "right": null,
            "top": null,
            "visibility": null,
            "width": null
          }
        },
        "0af4881ef377452abcab5f034ddc2f16": {
          "model_module": "@jupyter-widgets/controls",
          "model_name": "DescriptionStyleModel",
          "model_module_version": "1.5.0",
          "state": {
            "_model_module": "@jupyter-widgets/controls",
            "_model_module_version": "1.5.0",
            "_model_name": "DescriptionStyleModel",
            "_view_count": null,
            "_view_module": "@jupyter-widgets/base",
            "_view_module_version": "1.2.0",
            "_view_name": "StyleView",
            "description_width": ""
          }
        }
      }
    }
  },
  "nbformat": 4,
  "nbformat_minor": 0
}